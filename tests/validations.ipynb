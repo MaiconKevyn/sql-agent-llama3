{
 "cells": [
  {
   "cell_type": "code",
   "id": "initial_id",
   "metadata": {
    "collapsed": true,
    "ExecuteTime": {
     "end_time": "2025-06-20T17:59:42.092667Z",
     "start_time": "2025-06-20T17:59:41.731110Z"
    }
   },
   "source": [
    "import os\n",
    "import pandas as pd\n",
    "\n",
    "caminho_relativo = os.path.join('..', 'data', 'dados_sus3.csv')\n",
    "caminho_arquivo = os.path.abspath(caminho_relativo)\n",
    "\n",
    "df = pd.read_csv(caminho_arquivo)\n",
    "df.shape"
   ],
   "outputs": [
    {
     "data": {
      "text/plain": [
       "(58655, 18)"
      ]
     },
     "execution_count": 2,
     "metadata": {},
     "output_type": "execute_result"
    }
   ],
   "execution_count": 2
  },
  {
   "metadata": {
    "ExecuteTime": {
     "end_time": "2025-06-20T17:59:42.118480Z",
     "start_time": "2025-06-20T17:59:42.114069Z"
    }
   },
   "cell_type": "code",
   "source": "df.MORTE.value_counts()",
   "id": "5cea95daed1d104a",
   "outputs": [
    {
     "data": {
      "text/plain": [
       "0    56453\n",
       "1     2202\n",
       "Name: MORTE, dtype: int64"
      ]
     },
     "execution_count": 3,
     "metadata": {},
     "output_type": "execute_result"
    }
   ],
   "execution_count": 3
  },
  {
   "metadata": {
    "ExecuteTime": {
     "end_time": "2025-06-20T17:59:42.204240Z",
     "start_time": "2025-06-20T17:59:42.193969Z"
    }
   },
   "cell_type": "code",
   "source": [
    "df_rs = df[df.UF_RESIDENCIA_PACIENTE == 'Rio Grande do Sul']\n",
    "df_rs.shape"
   ],
   "id": "24dccac3fb545353",
   "outputs": [
    {
     "data": {
      "text/plain": [
       "(58655, 18)"
      ]
     },
     "execution_count": 4,
     "metadata": {},
     "output_type": "execute_result"
    }
   ],
   "execution_count": 4
  },
  {
   "metadata": {
    "ExecuteTime": {
     "end_time": "2025-06-20T17:59:42.371335Z",
     "start_time": "2025-06-20T17:59:42.361839Z"
    }
   },
   "cell_type": "code",
   "source": "df_rs",
   "id": "c732347ed032c0d5",
   "outputs": [
    {
     "data": {
      "text/plain": [
       "      DIAG_PRINC  MUNIC_RES  MUNIC_MOV   PROC_REA  IDADE  SEXO CID_MORTE  \\\n",
       "0           A46      430300     430300  303080078     67     3         0   \n",
       "1           C168     430300     430300  304100021     60     1         0   \n",
       "2           J128     430300     430300  303140151     76     3         0   \n",
       "3           I500     430300     430300  303060212     62     1         0   \n",
       "4           I158     430300     430300  303060107     29     3         0   \n",
       "...          ...        ...        ...        ...    ...   ...       ...   \n",
       "58650       M869     430460     430460  201010330     45     1             \n",
       "58651       S029     430460     430460  404030033     58     1             \n",
       "58652       S027     430645     430460  404020542     69     1             \n",
       "58653       S823     430690     430460  408050608     37     1             \n",
       "58654       M502     430460     430460  408030445     76     3             \n",
       "\n",
       "       MORTE     CNES  VAL_TOT  UTI_MES_TO  DT_INTER  DT_SAIDA  \\\n",
       "0          0  2266474   292.62           0  20170803  20170808   \n",
       "1          0  2266474   797.11           0  20170803  20170805   \n",
       "2          1  2266474  4987.52           8  20170726  20170803   \n",
       "3          1  2266474  2702.50           4  20170802  20170805   \n",
       "4          0  2266474  1737.69           2  20170804  20170810   \n",
       "...      ...      ...      ...         ...       ...       ...   \n",
       "58650      0  3508528   212.26           0  20140106  20140416   \n",
       "58651      0  3508528  1875.40           0  20140114  20140116   \n",
       "58652      0  3626245   355.15           0  20140221  20140222   \n",
       "58653      0  3626245  1695.42           0  20140302  20140314   \n",
       "58654      0  3626245  4515.42           5  20140310  20140318   \n",
       "\n",
       "       total_ocorrencias UF_RESIDENCIA_PACIENTE CIDADE_RESIDENCIA_PACIENTE  \\\n",
       "0                  24485      Rio Grande do Sul                Santa Maria   \n",
       "1                  24485      Rio Grande do Sul                Santa Maria   \n",
       "2                  24485      Rio Grande do Sul                Santa Maria   \n",
       "3                  24485      Rio Grande do Sul                Santa Maria   \n",
       "4                  24485      Rio Grande do Sul                Santa Maria   \n",
       "...                  ...                    ...                        ...   \n",
       "58650             116612      Rio Grande do Sul                 Uruguaiana   \n",
       "58651             116612      Rio Grande do Sul                 Uruguaiana   \n",
       "58652               1800      Rio Grande do Sul                Passo Fundo   \n",
       "58653               8956      Rio Grande do Sul                Passo Fundo   \n",
       "58654             116612      Rio Grande do Sul                 Uruguaiana   \n",
       "\n",
       "       LATI_CIDADE_RES  LONG_CIDADE_RES  \n",
       "0           -29.686051       -53.806921  \n",
       "1           -29.686051       -53.806921  \n",
       "2           -29.686051       -53.806921  \n",
       "3           -29.686051       -53.806921  \n",
       "4           -29.686051       -53.806921  \n",
       "...                ...              ...  \n",
       "58650       -29.756073       -57.086755  \n",
       "58651       -29.756073       -57.086755  \n",
       "58652       -28.255060       -52.396661  \n",
       "58653       -28.255060       -52.396661  \n",
       "58654       -29.756073       -57.086755  \n",
       "\n",
       "[58655 rows x 18 columns]"
      ],
      "text/html": [
       "<div>\n",
       "<style scoped>\n",
       "    .dataframe tbody tr th:only-of-type {\n",
       "        vertical-align: middle;\n",
       "    }\n",
       "\n",
       "    .dataframe tbody tr th {\n",
       "        vertical-align: top;\n",
       "    }\n",
       "\n",
       "    .dataframe thead th {\n",
       "        text-align: right;\n",
       "    }\n",
       "</style>\n",
       "<table border=\"1\" class=\"dataframe\">\n",
       "  <thead>\n",
       "    <tr style=\"text-align: right;\">\n",
       "      <th></th>\n",
       "      <th>DIAG_PRINC</th>\n",
       "      <th>MUNIC_RES</th>\n",
       "      <th>MUNIC_MOV</th>\n",
       "      <th>PROC_REA</th>\n",
       "      <th>IDADE</th>\n",
       "      <th>SEXO</th>\n",
       "      <th>CID_MORTE</th>\n",
       "      <th>MORTE</th>\n",
       "      <th>CNES</th>\n",
       "      <th>VAL_TOT</th>\n",
       "      <th>UTI_MES_TO</th>\n",
       "      <th>DT_INTER</th>\n",
       "      <th>DT_SAIDA</th>\n",
       "      <th>total_ocorrencias</th>\n",
       "      <th>UF_RESIDENCIA_PACIENTE</th>\n",
       "      <th>CIDADE_RESIDENCIA_PACIENTE</th>\n",
       "      <th>LATI_CIDADE_RES</th>\n",
       "      <th>LONG_CIDADE_RES</th>\n",
       "    </tr>\n",
       "  </thead>\n",
       "  <tbody>\n",
       "    <tr>\n",
       "      <th>0</th>\n",
       "      <td>A46</td>\n",
       "      <td>430300</td>\n",
       "      <td>430300</td>\n",
       "      <td>303080078</td>\n",
       "      <td>67</td>\n",
       "      <td>3</td>\n",
       "      <td>0</td>\n",
       "      <td>0</td>\n",
       "      <td>2266474</td>\n",
       "      <td>292.62</td>\n",
       "      <td>0</td>\n",
       "      <td>20170803</td>\n",
       "      <td>20170808</td>\n",
       "      <td>24485</td>\n",
       "      <td>Rio Grande do Sul</td>\n",
       "      <td>Santa Maria</td>\n",
       "      <td>-29.686051</td>\n",
       "      <td>-53.806921</td>\n",
       "    </tr>\n",
       "    <tr>\n",
       "      <th>1</th>\n",
       "      <td>C168</td>\n",
       "      <td>430300</td>\n",
       "      <td>430300</td>\n",
       "      <td>304100021</td>\n",
       "      <td>60</td>\n",
       "      <td>1</td>\n",
       "      <td>0</td>\n",
       "      <td>0</td>\n",
       "      <td>2266474</td>\n",
       "      <td>797.11</td>\n",
       "      <td>0</td>\n",
       "      <td>20170803</td>\n",
       "      <td>20170805</td>\n",
       "      <td>24485</td>\n",
       "      <td>Rio Grande do Sul</td>\n",
       "      <td>Santa Maria</td>\n",
       "      <td>-29.686051</td>\n",
       "      <td>-53.806921</td>\n",
       "    </tr>\n",
       "    <tr>\n",
       "      <th>2</th>\n",
       "      <td>J128</td>\n",
       "      <td>430300</td>\n",
       "      <td>430300</td>\n",
       "      <td>303140151</td>\n",
       "      <td>76</td>\n",
       "      <td>3</td>\n",
       "      <td>0</td>\n",
       "      <td>1</td>\n",
       "      <td>2266474</td>\n",
       "      <td>4987.52</td>\n",
       "      <td>8</td>\n",
       "      <td>20170726</td>\n",
       "      <td>20170803</td>\n",
       "      <td>24485</td>\n",
       "      <td>Rio Grande do Sul</td>\n",
       "      <td>Santa Maria</td>\n",
       "      <td>-29.686051</td>\n",
       "      <td>-53.806921</td>\n",
       "    </tr>\n",
       "    <tr>\n",
       "      <th>3</th>\n",
       "      <td>I500</td>\n",
       "      <td>430300</td>\n",
       "      <td>430300</td>\n",
       "      <td>303060212</td>\n",
       "      <td>62</td>\n",
       "      <td>1</td>\n",
       "      <td>0</td>\n",
       "      <td>1</td>\n",
       "      <td>2266474</td>\n",
       "      <td>2702.50</td>\n",
       "      <td>4</td>\n",
       "      <td>20170802</td>\n",
       "      <td>20170805</td>\n",
       "      <td>24485</td>\n",
       "      <td>Rio Grande do Sul</td>\n",
       "      <td>Santa Maria</td>\n",
       "      <td>-29.686051</td>\n",
       "      <td>-53.806921</td>\n",
       "    </tr>\n",
       "    <tr>\n",
       "      <th>4</th>\n",
       "      <td>I158</td>\n",
       "      <td>430300</td>\n",
       "      <td>430300</td>\n",
       "      <td>303060107</td>\n",
       "      <td>29</td>\n",
       "      <td>3</td>\n",
       "      <td>0</td>\n",
       "      <td>0</td>\n",
       "      <td>2266474</td>\n",
       "      <td>1737.69</td>\n",
       "      <td>2</td>\n",
       "      <td>20170804</td>\n",
       "      <td>20170810</td>\n",
       "      <td>24485</td>\n",
       "      <td>Rio Grande do Sul</td>\n",
       "      <td>Santa Maria</td>\n",
       "      <td>-29.686051</td>\n",
       "      <td>-53.806921</td>\n",
       "    </tr>\n",
       "    <tr>\n",
       "      <th>...</th>\n",
       "      <td>...</td>\n",
       "      <td>...</td>\n",
       "      <td>...</td>\n",
       "      <td>...</td>\n",
       "      <td>...</td>\n",
       "      <td>...</td>\n",
       "      <td>...</td>\n",
       "      <td>...</td>\n",
       "      <td>...</td>\n",
       "      <td>...</td>\n",
       "      <td>...</td>\n",
       "      <td>...</td>\n",
       "      <td>...</td>\n",
       "      <td>...</td>\n",
       "      <td>...</td>\n",
       "      <td>...</td>\n",
       "      <td>...</td>\n",
       "      <td>...</td>\n",
       "    </tr>\n",
       "    <tr>\n",
       "      <th>58650</th>\n",
       "      <td>M869</td>\n",
       "      <td>430460</td>\n",
       "      <td>430460</td>\n",
       "      <td>201010330</td>\n",
       "      <td>45</td>\n",
       "      <td>1</td>\n",
       "      <td></td>\n",
       "      <td>0</td>\n",
       "      <td>3508528</td>\n",
       "      <td>212.26</td>\n",
       "      <td>0</td>\n",
       "      <td>20140106</td>\n",
       "      <td>20140416</td>\n",
       "      <td>116612</td>\n",
       "      <td>Rio Grande do Sul</td>\n",
       "      <td>Uruguaiana</td>\n",
       "      <td>-29.756073</td>\n",
       "      <td>-57.086755</td>\n",
       "    </tr>\n",
       "    <tr>\n",
       "      <th>58651</th>\n",
       "      <td>S029</td>\n",
       "      <td>430460</td>\n",
       "      <td>430460</td>\n",
       "      <td>404030033</td>\n",
       "      <td>58</td>\n",
       "      <td>1</td>\n",
       "      <td></td>\n",
       "      <td>0</td>\n",
       "      <td>3508528</td>\n",
       "      <td>1875.40</td>\n",
       "      <td>0</td>\n",
       "      <td>20140114</td>\n",
       "      <td>20140116</td>\n",
       "      <td>116612</td>\n",
       "      <td>Rio Grande do Sul</td>\n",
       "      <td>Uruguaiana</td>\n",
       "      <td>-29.756073</td>\n",
       "      <td>-57.086755</td>\n",
       "    </tr>\n",
       "    <tr>\n",
       "      <th>58652</th>\n",
       "      <td>S027</td>\n",
       "      <td>430645</td>\n",
       "      <td>430460</td>\n",
       "      <td>404020542</td>\n",
       "      <td>69</td>\n",
       "      <td>1</td>\n",
       "      <td></td>\n",
       "      <td>0</td>\n",
       "      <td>3626245</td>\n",
       "      <td>355.15</td>\n",
       "      <td>0</td>\n",
       "      <td>20140221</td>\n",
       "      <td>20140222</td>\n",
       "      <td>1800</td>\n",
       "      <td>Rio Grande do Sul</td>\n",
       "      <td>Passo Fundo</td>\n",
       "      <td>-28.255060</td>\n",
       "      <td>-52.396661</td>\n",
       "    </tr>\n",
       "    <tr>\n",
       "      <th>58653</th>\n",
       "      <td>S823</td>\n",
       "      <td>430690</td>\n",
       "      <td>430460</td>\n",
       "      <td>408050608</td>\n",
       "      <td>37</td>\n",
       "      <td>1</td>\n",
       "      <td></td>\n",
       "      <td>0</td>\n",
       "      <td>3626245</td>\n",
       "      <td>1695.42</td>\n",
       "      <td>0</td>\n",
       "      <td>20140302</td>\n",
       "      <td>20140314</td>\n",
       "      <td>8956</td>\n",
       "      <td>Rio Grande do Sul</td>\n",
       "      <td>Passo Fundo</td>\n",
       "      <td>-28.255060</td>\n",
       "      <td>-52.396661</td>\n",
       "    </tr>\n",
       "    <tr>\n",
       "      <th>58654</th>\n",
       "      <td>M502</td>\n",
       "      <td>430460</td>\n",
       "      <td>430460</td>\n",
       "      <td>408030445</td>\n",
       "      <td>76</td>\n",
       "      <td>3</td>\n",
       "      <td></td>\n",
       "      <td>0</td>\n",
       "      <td>3626245</td>\n",
       "      <td>4515.42</td>\n",
       "      <td>5</td>\n",
       "      <td>20140310</td>\n",
       "      <td>20140318</td>\n",
       "      <td>116612</td>\n",
       "      <td>Rio Grande do Sul</td>\n",
       "      <td>Uruguaiana</td>\n",
       "      <td>-29.756073</td>\n",
       "      <td>-57.086755</td>\n",
       "    </tr>\n",
       "  </tbody>\n",
       "</table>\n",
       "<p>58655 rows × 18 columns</p>\n",
       "</div>"
      ]
     },
     "execution_count": 5,
     "metadata": {},
     "output_type": "execute_result"
    }
   ],
   "execution_count": 5
  },
  {
   "metadata": {
    "ExecuteTime": {
     "end_time": "2025-06-20T17:59:42.701411Z",
     "start_time": "2025-06-20T17:59:42.459521Z"
    }
   },
   "cell_type": "code",
   "source": "df_rs.to_csv(\"../data/dados_sus3.csv\", index=False)",
   "id": "a5eb887faf2debac",
   "outputs": [],
   "execution_count": 6
  },
  {
   "metadata": {
    "ExecuteTime": {
     "end_time": "2025-06-20T17:59:42.737667Z",
     "start_time": "2025-06-20T17:59:42.732012Z"
    }
   },
   "cell_type": "code",
   "source": "df_rs.CIDADE_RESIDENCIA_PACIENTE.value_counts()",
   "id": "ddb94dfaef73c7f1",
   "outputs": [
    {
     "data": {
      "text/plain": [
       "Uruguaiana                     9288\n",
       "Ijuí                           8809\n",
       "Passo Fundo                    8787\n",
       "Porto Alegre                   7036\n",
       "Caxias do Sul                  6825\n",
       "Pelotas                        6627\n",
       "Santa Cruz do Sul - Lajeado    5766\n",
       "Santa Maria                    5517\n",
       "Name: CIDADE_RESIDENCIA_PACIENTE, dtype: int64"
      ]
     },
     "execution_count": 7,
     "metadata": {},
     "output_type": "execute_result"
    }
   ],
   "execution_count": 7
  },
  {
   "metadata": {
    "ExecuteTime": {
     "end_time": "2025-06-20T17:59:42.814712Z",
     "start_time": "2025-06-20T17:59:42.809642Z"
    }
   },
   "cell_type": "code",
   "source": "df_rs[df_rs.MORTE == 1].SEXO.value_counts()",
   "id": "6f017de707d4071c",
   "outputs": [
    {
     "data": {
      "text/plain": [
       "1    1236\n",
       "3     966\n",
       "Name: SEXO, dtype: int64"
      ]
     },
     "execution_count": 8,
     "metadata": {},
     "output_type": "execute_result"
    }
   ],
   "execution_count": 8
  },
  {
   "metadata": {
    "ExecuteTime": {
     "end_time": "2025-06-20T17:59:43.000018Z",
     "start_time": "2025-06-20T17:59:42.992464Z"
    }
   },
   "cell_type": "code",
   "source": [
    "morte_rs = df_rs[(df_rs.MORTE == 1) & (df_rs.CIDADE_RESIDENCIA_PACIENTE == 'Porto Alegre')]\n",
    "morte_rs.shape[0]"
   ],
   "id": "27dfc42de5bc75da",
   "outputs": [
    {
     "data": {
      "text/plain": [
       "308"
      ]
     },
     "execution_count": 9,
     "metadata": {},
     "output_type": "execute_result"
    }
   ],
   "execution_count": 9
  },
  {
   "metadata": {
    "ExecuteTime": {
     "end_time": "2025-06-20T17:59:43.099860Z",
     "start_time": "2025-06-20T17:59:43.092319Z"
    }
   },
   "cell_type": "code",
   "source": "df_rs[(df_rs.MORTE == 1) & (df_rs.CIDADE_RESIDENCIA_PACIENTE == 'Porto Alegre')].SEXO.value_counts()",
   "id": "40704a35ffb23b60",
   "outputs": [
    {
     "data": {
      "text/plain": [
       "1    170\n",
       "3    138\n",
       "Name: SEXO, dtype: int64"
      ]
     },
     "execution_count": 10,
     "metadata": {},
     "output_type": "execute_result"
    }
   ],
   "execution_count": 10
  },
  {
   "metadata": {
    "ExecuteTime": {
     "end_time": "2025-06-20T17:59:43.202718Z",
     "start_time": "2025-06-20T17:59:43.194320Z"
    }
   },
   "cell_type": "code",
   "source": "df_rs[(df_rs.MORTE == 1) & (df_rs.CIDADE_RESIDENCIA_PACIENTE == 'Porto Alegre') & (df_rs['IDADE'] >30) ].SEXO.value_counts()",
   "id": "3414e6112eb552d2",
   "outputs": [
    {
     "data": {
      "text/plain": [
       "1    155\n",
       "3    125\n",
       "Name: SEXO, dtype: int64"
      ]
     },
     "execution_count": 11,
     "metadata": {},
     "output_type": "execute_result"
    }
   ],
   "execution_count": 11
  },
  {
   "metadata": {
    "ExecuteTime": {
     "end_time": "2025-06-20T17:59:43.324482Z",
     "start_time": "2025-06-20T17:59:43.320230Z"
    }
   },
   "cell_type": "code",
   "source": "df_rs[(df_rs.MORTE == 1) & (df_rs.SEXO == 1)].CIDADE_RESIDENCIA_PACIENTE.value_counts()",
   "id": "7c002dc2e35fb732",
   "outputs": [
    {
     "data": {
      "text/plain": [
       "Ijuí                           212\n",
       "Uruguaiana                     186\n",
       "Passo Fundo                    184\n",
       "Porto Alegre                   170\n",
       "Pelotas                        143\n",
       "Caxias do Sul                  127\n",
       "Santa Maria                    112\n",
       "Santa Cruz do Sul - Lajeado    102\n",
       "Name: CIDADE_RESIDENCIA_PACIENTE, dtype: int64"
      ]
     },
     "execution_count": 12,
     "metadata": {},
     "output_type": "execute_result"
    }
   ],
   "execution_count": 12
  },
  {
   "metadata": {
    "SqlCellData": {
     "variableName$1": "df_sql1"
    },
    "ExecuteTime": {
     "end_time": "2025-06-20T17:59:43.406226990Z",
     "start_time": "2025-06-20T17:59:43.378097815Z"
    }
   },
   "cell_type": "code",
   "execution_count": null,
   "source": "%%sql\n",
   "id": "63217a9c41af25fe",
   "outputs": []
  },
  {
   "metadata": {
    "ExecuteTime": {
     "end_time": "2025-06-20T17:59:43.478412Z",
     "start_time": "2025-06-20T17:59:43.474135Z"
    }
   },
   "cell_type": "code",
   "source": "df_rs[(df_rs.MORTE==1) & (df_rs.SEXO == 1)].IDADE.mean()",
   "id": "260cd5ff511fde85",
   "outputs": [
    {
     "data": {
      "text/plain": [
       "60.80825242718446"
      ]
     },
     "execution_count": 13,
     "metadata": {},
     "output_type": "execute_result"
    }
   ],
   "execution_count": 13
  },
  {
   "metadata": {
    "ExecuteTime": {
     "end_time": "2025-06-20T17:59:43.583601Z",
     "start_time": "2025-06-20T17:59:43.578746Z"
    }
   },
   "cell_type": "code",
   "source": "df_rs[(df_rs.MORTE==1) & (df_rs.SEXO == 3)].IDADE.mean()",
   "id": "1ea5c98f7746d20b",
   "outputs": [
    {
     "data": {
      "text/plain": [
       "65.25569358178053"
      ]
     },
     "execution_count": 14,
     "metadata": {},
     "output_type": "execute_result"
    }
   ],
   "execution_count": 14
  },
  {
   "metadata": {
    "ExecuteTime": {
     "end_time": "2025-06-20T17:59:43.671073Z",
     "start_time": "2025-06-20T17:59:43.666027Z"
    }
   },
   "cell_type": "code",
   "source": "df_rs.CIDADE_RESIDENCIA_PACIENTE.unique()",
   "id": "cbeb5a041673b8aa",
   "outputs": [
    {
     "data": {
      "text/plain": [
       "array(['Santa Maria', 'Pelotas', 'Ijuí', 'Porto Alegre', 'Passo Fundo',\n",
       "       'Caxias do Sul', 'Uruguaiana', 'Santa Cruz do Sul - Lajeado'],\n",
       "      dtype=object)"
      ]
     },
     "execution_count": 15,
     "metadata": {},
     "output_type": "execute_result"
    }
   ],
   "execution_count": 15
  },
  {
   "metadata": {
    "ExecuteTime": {
     "end_time": "2025-06-20T17:59:43.760033Z",
     "start_time": "2025-06-20T17:59:43.751096Z"
    }
   },
   "cell_type": "code",
   "source": "df_rs[(df_rs.MORTE == 1) & (df_rs.CIDADE_RESIDENCIA_PACIENTE == 'Uruguaiana') & (df_rs.SEXO == 3)].IDADE.mean()",
   "id": "a4fed3254a250725",
   "outputs": [
    {
     "data": {
      "text/plain": [
       "61.26589595375722"
      ]
     },
     "execution_count": 16,
     "metadata": {},
     "output_type": "execute_result"
    }
   ],
   "execution_count": 16
  },
  {
   "metadata": {
    "ExecuteTime": {
     "end_time": "2025-06-20T17:59:43.818794Z",
     "start_time": "2025-06-20T17:59:43.814683Z"
    }
   },
   "cell_type": "code",
   "source": "df_rs[(df_rs.MORTE == 1) & (df_rs.IDADE >60)].shape[0]",
   "id": "56632f130317fd10",
   "outputs": [
    {
     "data": {
      "text/plain": [
       "1455"
      ]
     },
     "execution_count": 17,
     "metadata": {},
     "output_type": "execute_result"
    }
   ],
   "execution_count": 17
  },
  {
   "metadata": {
    "ExecuteTime": {
     "end_time": "2025-06-20T17:59:43.874073Z",
     "start_time": "2025-06-20T17:59:43.870250Z"
    }
   },
   "cell_type": "code",
   "source": "df_rs.CID_MORTE.unique()",
   "id": "5d57db8d20f344cd",
   "outputs": [
    {
     "data": {
      "text/plain": [
       "array(['0', '0000', '    ', 'E46 ', 'G710', 'D860', 'I200', 'C248',\n",
       "       'P072', 'N328', 'E43 ', 'R570', 'E138', 'I64 ', 'B24 ', 'N188',\n",
       "       'B209', 'I469', 'N179', 'T180', 'J81 ', 'I269', 'J950', 'Q850',\n",
       "       'S069', 'R092', 'C341', 'C250', 'A418', 'K632', 'K746', 'M511',\n",
       "       'B203', 'J960', 'J958', 'Y711', 'I743', 'I713', 'A419', 'C240',\n",
       "       'I351', 'K658', 'I350', 'R579', 'D752', 'J984', 'K870', 'I255',\n",
       "       'R578', 'I608', 'S222', 'I618', 'I358', 'B201', 'C180', 'C340',\n",
       "       'A409', 'J852', 'K920', 'K750', 'I279', 'Q203', 'Q234', 'Q230',\n",
       "       'K819', 'N178', 'S063', 'T818', 'J969', 'I499', 'J985', 'C787',\n",
       "       'G808', 'B690', 'I621', 'S221', 'G961', 'A079', 'T813', 'I062',\n",
       "       'I711', 'S350', 'G409', 'K225', 'N180', 'C258', 'C494', 'R100',\n",
       "       'M311', 'I159', 'T026', 'I609', 'S065', 'T846', 'I710', 'I509',\n",
       "       'J159', 'M432', 'C838', 'J938', 'C920', 'Q219', 'J848', 'B188',\n",
       "       'M349', 'C61 ', 'G958', 'C162', 'G629', 'C151', 'K938', 'D483',\n",
       "       'I313', 'I289', 'I601', 'R960', 'I219', 'I209', 'L539', 'C384',\n",
       "       'D381', 'G07 ', 'S062', 'K564', 'K631', 'O469', 'I635', 'I714',\n",
       "       'N390', 'Q759', 'N151', 'C159', 'K805', 'C189', 'D002', 'E108',\n",
       "       'K562', 'J128', 'I723', 'Q899'], dtype=object)"
      ]
     },
     "execution_count": 18,
     "metadata": {},
     "output_type": "execute_result"
    }
   ],
   "execution_count": 18
  },
  {
   "metadata": {
    "ExecuteTime": {
     "end_time": "2025-06-20T17:59:43.935526Z",
     "start_time": "2025-06-20T17:59:43.933969Z"
    }
   },
   "cell_type": "code",
   "source": "",
   "id": "bdbee7fea1fc8cf7",
   "outputs": [],
   "execution_count": null
  },
  {
   "metadata": {
    "ExecuteTime": {
     "end_time": "2025-06-20T17:59:43.991287Z",
     "start_time": "2025-06-20T17:59:43.988630Z"
    }
   },
   "cell_type": "code",
   "source": "df_rs.IDADE.mean()",
   "id": "817bb269f41d220b",
   "outputs": [
    {
     "data": {
      "text/plain": [
       "46.70495268945529"
      ]
     },
     "execution_count": 19,
     "metadata": {},
     "output_type": "execute_result"
    }
   ],
   "execution_count": 19
  },
  {
   "metadata": {
    "ExecuteTime": {
     "end_time": "2025-06-20T17:59:44.054845Z",
     "start_time": "2025-06-20T17:59:44.046070Z"
    }
   },
   "cell_type": "code",
   "source": [
    "import sqlite3\n",
    "import pandas as pd\n",
    "\n",
    "# Conectar ao banco de dados\n",
    "conn = sqlite3.connect(\"/home/maiconkevyn/PycharmProjects/txt2sql/sus_data.db\")\n",
    "\n",
    "# Listar todas as tabelas disponíveis\n",
    "cursor = conn.cursor()\n",
    "cursor.execute(\"SELECT name FROM sqlite_master WHERE type='table';\")\n",
    "tabelas = [tabela[0] for tabela in cursor.fetchall()]\n",
    "\n",
    "print(\"Tabelas disponíveis:\")\n",
    "for tabela in tabelas:\n",
    "    print(f\"- {tabela}\")\n",
    "    # Mostrar primeiras 5 linhas de cada tabela\n",
    "    df = pd.read_sql(f\"SELECT * FROM {tabela} LIMIT 5\", conn)\n",
    "    print(df)\n",
    "    print(\"-\" * 50)\n",
    "\n",
    "conn.close()"
   ],
   "id": "b72ccf4c1f259e7f",
   "outputs": [
    {
     "name": "stdout",
     "output_type": "stream",
     "text": [
      "Tabelas disponíveis:\n",
      "- dados_sus3\n",
      "  DIAG_PRINC  MUNIC_RES  MUNIC_MOV   PROC_REA  IDADE  SEXO CID_MORTE  MORTE  \\\n",
      "0       A46      430300     430300  303080078     67     3         0      0   \n",
      "1       C168     430300     430300  304100021     60     1         0      0   \n",
      "2       J128     430300     430300  303140151     76     3         0      1   \n",
      "3       I500     430300     430300  303060212     62     1         0      1   \n",
      "4       I158     430300     430300  303060107     29     3         0      0   \n",
      "\n",
      "      CNES  VAL_TOT  UTI_MES_TO  DT_INTER  DT_SAIDA  total_ocorrencias  \\\n",
      "0  2266474   292.62           0  20170803  20170808              24485   \n",
      "1  2266474   797.11           0  20170803  20170805              24485   \n",
      "2  2266474  4987.52           8  20170726  20170803              24485   \n",
      "3  2266474  2702.50           4  20170802  20170805              24485   \n",
      "4  2266474  1737.69           2  20170804  20170810              24485   \n",
      "\n",
      "  UF_RESIDENCIA_PACIENTE CIDADE_RESIDENCIA_PACIENTE  LATI_CIDADE_RES  \\\n",
      "0      Rio Grande do Sul                Santa Maria       -29.686051   \n",
      "1      Rio Grande do Sul                Santa Maria       -29.686051   \n",
      "2      Rio Grande do Sul                Santa Maria       -29.686051   \n",
      "3      Rio Grande do Sul                Santa Maria       -29.686051   \n",
      "4      Rio Grande do Sul                Santa Maria       -29.686051   \n",
      "\n",
      "   LONG_CIDADE_RES  \n",
      "0       -53.806921  \n",
      "1       -53.806921  \n",
      "2       -53.806921  \n",
      "3       -53.806921  \n",
      "4       -53.806921  \n",
      "--------------------------------------------------\n"
     ]
    }
   ],
   "execution_count": 20
  },
  {
   "metadata": {
    "ExecuteTime": {
     "end_time": "2025-06-20T17:59:44.115097Z",
     "start_time": "2025-06-20T17:59:44.101586Z"
    }
   },
   "cell_type": "code",
   "source": [
    "doencas_respiratorias = df_rs[df_rs['DIAG_PRINC'].str.startswith('J', na=False)]\n",
    "len(doencas_respiratorias)"
   ],
   "id": "75fccb0d0cb357fe",
   "outputs": [
    {
     "data": {
      "text/plain": [
       "2785"
      ]
     },
     "execution_count": 21,
     "metadata": {},
     "output_type": "execute_result"
    }
   ],
   "execution_count": 21
  },
  {
   "metadata": {
    "ExecuteTime": {
     "end_time": "2025-06-20T17:59:44.176211Z",
     "start_time": "2025-06-20T17:59:44.163014Z"
    }
   },
   "cell_type": "code",
   "source": [
    "doencas_respiratorias = df_rs[df_rs['DIAG_PRINC'].str.startswith('F', na=False)]\n",
    "len(doencas_respiratorias)"
   ],
   "id": "8192b430889eab86",
   "outputs": [
    {
     "data": {
      "text/plain": [
       "1125"
      ]
     },
     "execution_count": 22,
     "metadata": {},
     "output_type": "execute_result"
    }
   ],
   "execution_count": 22
  }
 ],
 "metadata": {
  "kernelspec": {
   "display_name": "Python 3",
   "language": "python",
   "name": "python3"
  },
  "language_info": {
   "codemirror_mode": {
    "name": "ipython",
    "version": 2
   },
   "file_extension": ".py",
   "mimetype": "text/x-python",
   "name": "python",
   "nbconvert_exporter": "python",
   "pygments_lexer": "ipython2",
   "version": "2.7.6"
  }
 },
 "nbformat": 4,
 "nbformat_minor": 5
}
