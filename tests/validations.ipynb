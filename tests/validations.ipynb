{
 "cells": [
  {
   "cell_type": "code",
   "id": "initial_id",
   "metadata": {
    "collapsed": true,
    "ExecuteTime": {
     "end_time": "2025-06-13T16:07:26.692124Z",
     "start_time": "2025-06-13T16:07:26.308338Z"
    }
   },
   "source": [
    "import os\n",
    "import pandas as pd\n",
    "\n",
    "caminho_relativo = os.path.join('..', 'data', 'dados_sus3.csv')\n",
    "caminho_arquivo = os.path.abspath(caminho_relativo)\n",
    "\n",
    "df = pd.read_csv(caminho_arquivo)\n",
    "df.shape"
   ],
   "outputs": [
    {
     "data": {
      "text/plain": [
       "(58655, 18)"
      ]
     },
     "execution_count": 1,
     "metadata": {},
     "output_type": "execute_result"
    }
   ],
   "execution_count": 1
  },
  {
   "metadata": {
    "ExecuteTime": {
     "end_time": "2025-06-13T16:07:26.712238Z",
     "start_time": "2025-06-13T16:07:26.706648Z"
    }
   },
   "cell_type": "code",
   "source": "df.MORTE.value_counts()",
   "id": "5cea95daed1d104a",
   "outputs": [
    {
     "data": {
      "text/plain": [
       "MORTE\n",
       "0    56453\n",
       "1     2202\n",
       "Name: count, dtype: int64"
      ]
     },
     "execution_count": 2,
     "metadata": {},
     "output_type": "execute_result"
    }
   ],
   "execution_count": 2
  },
  {
   "metadata": {
    "ExecuteTime": {
     "end_time": "2025-06-13T16:07:26.849969Z",
     "start_time": "2025-06-13T16:07:26.842385Z"
    }
   },
   "cell_type": "code",
   "source": [
    "df_rs = df[df.UF_RESIDENCIA_PACIENTE == 'Rio Grande do Sul']\n",
    "df_rs.shape"
   ],
   "id": "24dccac3fb545353",
   "outputs": [
    {
     "data": {
      "text/plain": [
       "(58655, 18)"
      ]
     },
     "execution_count": 3,
     "metadata": {},
     "output_type": "execute_result"
    }
   ],
   "execution_count": 3
  },
  {
   "metadata": {
    "ExecuteTime": {
     "end_time": "2025-06-13T16:07:26.905311Z",
     "start_time": "2025-06-13T16:07:26.897422Z"
    }
   },
   "cell_type": "code",
   "source": "df_rs",
   "id": "c732347ed032c0d5",
   "outputs": [
    {
     "data": {
      "text/plain": [
       "      DIAG_PRINC  MUNIC_RES  MUNIC_MOV   PROC_REA  IDADE  SEXO CID_MORTE  \\\n",
       "0           A46      430300     430300  303080078     67     3         0   \n",
       "1           C168     430300     430300  304100021     60     1         0   \n",
       "2           J128     430300     430300  303140151     76     3         0   \n",
       "3           I500     430300     430300  303060212     62     1         0   \n",
       "4           I158     430300     430300  303060107     29     3         0   \n",
       "...          ...        ...        ...        ...    ...   ...       ...   \n",
       "58650       M869     430460     430460  201010330     45     1             \n",
       "58651       S029     430460     430460  404030033     58     1             \n",
       "58652       S027     430645     430460  404020542     69     1             \n",
       "58653       S823     430690     430460  408050608     37     1             \n",
       "58654       M502     430460     430460  408030445     76     3             \n",
       "\n",
       "       MORTE     CNES  VAL_TOT  UTI_MES_TO  DT_INTER  DT_SAIDA  \\\n",
       "0          0  2266474   292.62           0  20170803  20170808   \n",
       "1          0  2266474   797.11           0  20170803  20170805   \n",
       "2          1  2266474  4987.52           8  20170726  20170803   \n",
       "3          1  2266474  2702.50           4  20170802  20170805   \n",
       "4          0  2266474  1737.69           2  20170804  20170810   \n",
       "...      ...      ...      ...         ...       ...       ...   \n",
       "58650      0  3508528   212.26           0  20140106  20140416   \n",
       "58651      0  3508528  1875.40           0  20140114  20140116   \n",
       "58652      0  3626245   355.15           0  20140221  20140222   \n",
       "58653      0  3626245  1695.42           0  20140302  20140314   \n",
       "58654      0  3626245  4515.42           5  20140310  20140318   \n",
       "\n",
       "       total_ocorrencias UF_RESIDENCIA_PACIENTE CIDADE_RESIDENCIA_PACIENTE  \\\n",
       "0                  24485      Rio Grande do Sul                Santa Maria   \n",
       "1                  24485      Rio Grande do Sul                Santa Maria   \n",
       "2                  24485      Rio Grande do Sul                Santa Maria   \n",
       "3                  24485      Rio Grande do Sul                Santa Maria   \n",
       "4                  24485      Rio Grande do Sul                Santa Maria   \n",
       "...                  ...                    ...                        ...   \n",
       "58650             116612      Rio Grande do Sul                 Uruguaiana   \n",
       "58651             116612      Rio Grande do Sul                 Uruguaiana   \n",
       "58652               1800      Rio Grande do Sul                Passo Fundo   \n",
       "58653               8956      Rio Grande do Sul                Passo Fundo   \n",
       "58654             116612      Rio Grande do Sul                 Uruguaiana   \n",
       "\n",
       "       LATI_CIDADE_RES  LONG_CIDADE_RES  \n",
       "0           -29.686051       -53.806921  \n",
       "1           -29.686051       -53.806921  \n",
       "2           -29.686051       -53.806921  \n",
       "3           -29.686051       -53.806921  \n",
       "4           -29.686051       -53.806921  \n",
       "...                ...              ...  \n",
       "58650       -29.756073       -57.086755  \n",
       "58651       -29.756073       -57.086755  \n",
       "58652       -28.255060       -52.396661  \n",
       "58653       -28.255060       -52.396661  \n",
       "58654       -29.756073       -57.086755  \n",
       "\n",
       "[58655 rows x 18 columns]"
      ],
      "text/html": [
       "<div>\n",
       "<style scoped>\n",
       "    .dataframe tbody tr th:only-of-type {\n",
       "        vertical-align: middle;\n",
       "    }\n",
       "\n",
       "    .dataframe tbody tr th {\n",
       "        vertical-align: top;\n",
       "    }\n",
       "\n",
       "    .dataframe thead th {\n",
       "        text-align: right;\n",
       "    }\n",
       "</style>\n",
       "<table border=\"1\" class=\"dataframe\">\n",
       "  <thead>\n",
       "    <tr style=\"text-align: right;\">\n",
       "      <th></th>\n",
       "      <th>DIAG_PRINC</th>\n",
       "      <th>MUNIC_RES</th>\n",
       "      <th>MUNIC_MOV</th>\n",
       "      <th>PROC_REA</th>\n",
       "      <th>IDADE</th>\n",
       "      <th>SEXO</th>\n",
       "      <th>CID_MORTE</th>\n",
       "      <th>MORTE</th>\n",
       "      <th>CNES</th>\n",
       "      <th>VAL_TOT</th>\n",
       "      <th>UTI_MES_TO</th>\n",
       "      <th>DT_INTER</th>\n",
       "      <th>DT_SAIDA</th>\n",
       "      <th>total_ocorrencias</th>\n",
       "      <th>UF_RESIDENCIA_PACIENTE</th>\n",
       "      <th>CIDADE_RESIDENCIA_PACIENTE</th>\n",
       "      <th>LATI_CIDADE_RES</th>\n",
       "      <th>LONG_CIDADE_RES</th>\n",
       "    </tr>\n",
       "  </thead>\n",
       "  <tbody>\n",
       "    <tr>\n",
       "      <th>0</th>\n",
       "      <td>A46</td>\n",
       "      <td>430300</td>\n",
       "      <td>430300</td>\n",
       "      <td>303080078</td>\n",
       "      <td>67</td>\n",
       "      <td>3</td>\n",
       "      <td>0</td>\n",
       "      <td>0</td>\n",
       "      <td>2266474</td>\n",
       "      <td>292.62</td>\n",
       "      <td>0</td>\n",
       "      <td>20170803</td>\n",
       "      <td>20170808</td>\n",
       "      <td>24485</td>\n",
       "      <td>Rio Grande do Sul</td>\n",
       "      <td>Santa Maria</td>\n",
       "      <td>-29.686051</td>\n",
       "      <td>-53.806921</td>\n",
       "    </tr>\n",
       "    <tr>\n",
       "      <th>1</th>\n",
       "      <td>C168</td>\n",
       "      <td>430300</td>\n",
       "      <td>430300</td>\n",
       "      <td>304100021</td>\n",
       "      <td>60</td>\n",
       "      <td>1</td>\n",
       "      <td>0</td>\n",
       "      <td>0</td>\n",
       "      <td>2266474</td>\n",
       "      <td>797.11</td>\n",
       "      <td>0</td>\n",
       "      <td>20170803</td>\n",
       "      <td>20170805</td>\n",
       "      <td>24485</td>\n",
       "      <td>Rio Grande do Sul</td>\n",
       "      <td>Santa Maria</td>\n",
       "      <td>-29.686051</td>\n",
       "      <td>-53.806921</td>\n",
       "    </tr>\n",
       "    <tr>\n",
       "      <th>2</th>\n",
       "      <td>J128</td>\n",
       "      <td>430300</td>\n",
       "      <td>430300</td>\n",
       "      <td>303140151</td>\n",
       "      <td>76</td>\n",
       "      <td>3</td>\n",
       "      <td>0</td>\n",
       "      <td>1</td>\n",
       "      <td>2266474</td>\n",
       "      <td>4987.52</td>\n",
       "      <td>8</td>\n",
       "      <td>20170726</td>\n",
       "      <td>20170803</td>\n",
       "      <td>24485</td>\n",
       "      <td>Rio Grande do Sul</td>\n",
       "      <td>Santa Maria</td>\n",
       "      <td>-29.686051</td>\n",
       "      <td>-53.806921</td>\n",
       "    </tr>\n",
       "    <tr>\n",
       "      <th>3</th>\n",
       "      <td>I500</td>\n",
       "      <td>430300</td>\n",
       "      <td>430300</td>\n",
       "      <td>303060212</td>\n",
       "      <td>62</td>\n",
       "      <td>1</td>\n",
       "      <td>0</td>\n",
       "      <td>1</td>\n",
       "      <td>2266474</td>\n",
       "      <td>2702.50</td>\n",
       "      <td>4</td>\n",
       "      <td>20170802</td>\n",
       "      <td>20170805</td>\n",
       "      <td>24485</td>\n",
       "      <td>Rio Grande do Sul</td>\n",
       "      <td>Santa Maria</td>\n",
       "      <td>-29.686051</td>\n",
       "      <td>-53.806921</td>\n",
       "    </tr>\n",
       "    <tr>\n",
       "      <th>4</th>\n",
       "      <td>I158</td>\n",
       "      <td>430300</td>\n",
       "      <td>430300</td>\n",
       "      <td>303060107</td>\n",
       "      <td>29</td>\n",
       "      <td>3</td>\n",
       "      <td>0</td>\n",
       "      <td>0</td>\n",
       "      <td>2266474</td>\n",
       "      <td>1737.69</td>\n",
       "      <td>2</td>\n",
       "      <td>20170804</td>\n",
       "      <td>20170810</td>\n",
       "      <td>24485</td>\n",
       "      <td>Rio Grande do Sul</td>\n",
       "      <td>Santa Maria</td>\n",
       "      <td>-29.686051</td>\n",
       "      <td>-53.806921</td>\n",
       "    </tr>\n",
       "    <tr>\n",
       "      <th>...</th>\n",
       "      <td>...</td>\n",
       "      <td>...</td>\n",
       "      <td>...</td>\n",
       "      <td>...</td>\n",
       "      <td>...</td>\n",
       "      <td>...</td>\n",
       "      <td>...</td>\n",
       "      <td>...</td>\n",
       "      <td>...</td>\n",
       "      <td>...</td>\n",
       "      <td>...</td>\n",
       "      <td>...</td>\n",
       "      <td>...</td>\n",
       "      <td>...</td>\n",
       "      <td>...</td>\n",
       "      <td>...</td>\n",
       "      <td>...</td>\n",
       "      <td>...</td>\n",
       "    </tr>\n",
       "    <tr>\n",
       "      <th>58650</th>\n",
       "      <td>M869</td>\n",
       "      <td>430460</td>\n",
       "      <td>430460</td>\n",
       "      <td>201010330</td>\n",
       "      <td>45</td>\n",
       "      <td>1</td>\n",
       "      <td></td>\n",
       "      <td>0</td>\n",
       "      <td>3508528</td>\n",
       "      <td>212.26</td>\n",
       "      <td>0</td>\n",
       "      <td>20140106</td>\n",
       "      <td>20140416</td>\n",
       "      <td>116612</td>\n",
       "      <td>Rio Grande do Sul</td>\n",
       "      <td>Uruguaiana</td>\n",
       "      <td>-29.756073</td>\n",
       "      <td>-57.086755</td>\n",
       "    </tr>\n",
       "    <tr>\n",
       "      <th>58651</th>\n",
       "      <td>S029</td>\n",
       "      <td>430460</td>\n",
       "      <td>430460</td>\n",
       "      <td>404030033</td>\n",
       "      <td>58</td>\n",
       "      <td>1</td>\n",
       "      <td></td>\n",
       "      <td>0</td>\n",
       "      <td>3508528</td>\n",
       "      <td>1875.40</td>\n",
       "      <td>0</td>\n",
       "      <td>20140114</td>\n",
       "      <td>20140116</td>\n",
       "      <td>116612</td>\n",
       "      <td>Rio Grande do Sul</td>\n",
       "      <td>Uruguaiana</td>\n",
       "      <td>-29.756073</td>\n",
       "      <td>-57.086755</td>\n",
       "    </tr>\n",
       "    <tr>\n",
       "      <th>58652</th>\n",
       "      <td>S027</td>\n",
       "      <td>430645</td>\n",
       "      <td>430460</td>\n",
       "      <td>404020542</td>\n",
       "      <td>69</td>\n",
       "      <td>1</td>\n",
       "      <td></td>\n",
       "      <td>0</td>\n",
       "      <td>3626245</td>\n",
       "      <td>355.15</td>\n",
       "      <td>0</td>\n",
       "      <td>20140221</td>\n",
       "      <td>20140222</td>\n",
       "      <td>1800</td>\n",
       "      <td>Rio Grande do Sul</td>\n",
       "      <td>Passo Fundo</td>\n",
       "      <td>-28.255060</td>\n",
       "      <td>-52.396661</td>\n",
       "    </tr>\n",
       "    <tr>\n",
       "      <th>58653</th>\n",
       "      <td>S823</td>\n",
       "      <td>430690</td>\n",
       "      <td>430460</td>\n",
       "      <td>408050608</td>\n",
       "      <td>37</td>\n",
       "      <td>1</td>\n",
       "      <td></td>\n",
       "      <td>0</td>\n",
       "      <td>3626245</td>\n",
       "      <td>1695.42</td>\n",
       "      <td>0</td>\n",
       "      <td>20140302</td>\n",
       "      <td>20140314</td>\n",
       "      <td>8956</td>\n",
       "      <td>Rio Grande do Sul</td>\n",
       "      <td>Passo Fundo</td>\n",
       "      <td>-28.255060</td>\n",
       "      <td>-52.396661</td>\n",
       "    </tr>\n",
       "    <tr>\n",
       "      <th>58654</th>\n",
       "      <td>M502</td>\n",
       "      <td>430460</td>\n",
       "      <td>430460</td>\n",
       "      <td>408030445</td>\n",
       "      <td>76</td>\n",
       "      <td>3</td>\n",
       "      <td></td>\n",
       "      <td>0</td>\n",
       "      <td>3626245</td>\n",
       "      <td>4515.42</td>\n",
       "      <td>5</td>\n",
       "      <td>20140310</td>\n",
       "      <td>20140318</td>\n",
       "      <td>116612</td>\n",
       "      <td>Rio Grande do Sul</td>\n",
       "      <td>Uruguaiana</td>\n",
       "      <td>-29.756073</td>\n",
       "      <td>-57.086755</td>\n",
       "    </tr>\n",
       "  </tbody>\n",
       "</table>\n",
       "<p>58655 rows × 18 columns</p>\n",
       "</div>"
      ]
     },
     "execution_count": 4,
     "metadata": {},
     "output_type": "execute_result"
    }
   ],
   "execution_count": 4
  },
  {
   "metadata": {
    "ExecuteTime": {
     "end_time": "2025-06-13T16:07:27.373919Z",
     "start_time": "2025-06-13T16:07:27.066003Z"
    }
   },
   "cell_type": "code",
   "source": "df_rs.to_csv(\"../data/dados_sus3.csv\", index=False)",
   "id": "a5eb887faf2debac",
   "outputs": [],
   "execution_count": 5
  },
  {
   "metadata": {
    "ExecuteTime": {
     "end_time": "2025-06-13T16:07:27.410649Z",
     "start_time": "2025-06-13T16:07:27.404785Z"
    }
   },
   "cell_type": "code",
   "source": "df_rs.CIDADE_RESIDENCIA_PACIENTE.value_counts()",
   "id": "ddb94dfaef73c7f1",
   "outputs": [
    {
     "data": {
      "text/plain": [
       "CIDADE_RESIDENCIA_PACIENTE\n",
       "Uruguaiana                     9288\n",
       "Ijuí                           8809\n",
       "Passo Fundo                    8787\n",
       "Porto Alegre                   7036\n",
       "Caxias do Sul                  6825\n",
       "Pelotas                        6627\n",
       "Santa Cruz do Sul - Lajeado    5766\n",
       "Santa Maria                    5517\n",
       "Name: count, dtype: int64"
      ]
     },
     "execution_count": 6,
     "metadata": {},
     "output_type": "execute_result"
    }
   ],
   "execution_count": 6
  },
  {
   "metadata": {
    "ExecuteTime": {
     "end_time": "2025-06-13T16:08:52.259156Z",
     "start_time": "2025-06-13T16:08:52.254291Z"
    }
   },
   "cell_type": "code",
   "source": "df_rs[df_rs.MORTE == 1].SEXO.value_counts()",
   "id": "6f017de707d4071c",
   "outputs": [
    {
     "data": {
      "text/plain": [
       "SEXO\n",
       "1    1236\n",
       "3     966\n",
       "Name: count, dtype: int64"
      ]
     },
     "execution_count": 16,
     "metadata": {},
     "output_type": "execute_result"
    }
   ],
   "execution_count": 16
  },
  {
   "metadata": {
    "ExecuteTime": {
     "end_time": "2025-06-13T16:08:18.528179Z",
     "start_time": "2025-06-13T16:08:18.513416Z"
    }
   },
   "cell_type": "code",
   "source": "df_rs[(df_rs.MORTE == 1) & (df_rs.CIDADE_RESIDENCIA_PACIENTE == 'Porto Alegre')]",
   "id": "27dfc42de5bc75da",
   "outputs": [
    {
     "data": {
      "text/plain": [
       "DIAG_PRINC  MUNIC_RES  MUNIC_MOV  PROC_REA   IDADE  SEXO  CID_MORTE  MORTE  CNES     VAL_TOT   UTI_MES_TO  DT_INTER  DT_SAIDA  total_ocorrencias  UF_RESIDENCIA_PACIENTE  CIDADE_RESIDENCIA_PACIENTE  LATI_CIDADE_RES  LONG_CIDADE_RES\n",
       "Z039        430175     431490     301060010  0      3     0          1      2237822  525.99    1           20211231  20211231  1480               Rio Grande do Sul       Porto Alegre                -30.0325         -51.230377         1\n",
       "A09         430195     432010     303010061  85     1     0          1      2235404  658.16    0           20200424  20200430  806                Rio Grande do Sul       Porto Alegre                -30.0325         -51.230377         1\n",
       "A152        430107     431440     303010215  74     1     0          1      2253046  4466.21   0           20221223  20230120  498                Rio Grande do Sul       Porto Alegre                -30.0325         -51.230377         1\n",
       "S720        430185     432140     408040050  81     1     0          1      5384117  11070.93  12          20211201  20211221  1183               Rio Grande do Sul       Porto Alegre                -30.0325         -51.230377         1\n",
       "            430170     430700     408040050  86     1     0          1      2707918  4319.57   1           20190326  20190401  1992               Rio Grande do Sul       Porto Alegre                -30.0325         -51.230377         1\n",
       "                                                                                                                                                                                                                                         ..\n",
       "A419        430160     430040     303010037  64     1     0          1      2248328  1429.63   1           20170803  20170803  30194              Rio Grande do Sul       Porto Alegre                -30.0325         -51.230377         1\n",
       "            430150     430150     303010037  73     3     0          1      2261081  921.91    0           20170816  20170822  1915               Rio Grande do Sul       Porto Alegre                -30.0325         -51.230377         1\n",
       "            430110     431490     303010037  76     1     0          1      2237571  2139.35   0           20170720  20170813  4402               Rio Grande do Sul       Porto Alegre                -30.0325         -51.230377         1\n",
       "A418        430130     431440     303010037  75     1     0          1      2253054  2337.65   2           20170729  20170730  5201               Rio Grande do Sul       Porto Alegre                -30.0325         -51.230377         1\n",
       "A318        430105     432150     303010037  72     1     0          1      2707950  1267.64   0           20170809  20170814  2547               Rio Grande do Sul       Porto Alegre                -30.0325         -51.230377         1\n",
       "Name: count, Length: 307, dtype: int64"
      ]
     },
     "execution_count": 15,
     "metadata": {},
     "output_type": "execute_result"
    }
   ],
   "execution_count": 15
  },
  {
   "metadata": {
    "ExecuteTime": {
     "end_time": "2025-06-13T16:12:47.796951Z",
     "start_time": "2025-06-13T16:12:47.789500Z"
    }
   },
   "cell_type": "code",
   "source": "df_rs[(df_rs.MORTE == 1) & (df_rs.CIDADE_RESIDENCIA_PACIENTE == 'Porto Alegre')].SEXO.value_counts()",
   "id": "40704a35ffb23b60",
   "outputs": [
    {
     "data": {
      "text/plain": [
       "SEXO\n",
       "1    170\n",
       "3    138\n",
       "Name: count, dtype: int64"
      ]
     },
     "execution_count": 23,
     "metadata": {},
     "output_type": "execute_result"
    }
   ],
   "execution_count": 23
  },
  {
   "metadata": {
    "ExecuteTime": {
     "end_time": "2025-06-13T17:26:09.059423Z",
     "start_time": "2025-06-13T17:26:09.050106Z"
    }
   },
   "cell_type": "code",
   "source": "df_rs[(df_rs.MORTE == 1) & (df_rs.CIDADE_RESIDENCIA_PACIENTE == 'Porto Alegre') & (df_rs['IDADE'] >40) ].SEXO.value_counts()",
   "id": "3414e6112eb552d2",
   "outputs": [
    {
     "data": {
      "text/plain": [
       "SEXO\n",
       "1    146\n",
       "3    120\n",
       "Name: count, dtype: int64"
      ]
     },
     "execution_count": 36,
     "metadata": {},
     "output_type": "execute_result"
    }
   ],
   "execution_count": 36
  },
  {
   "metadata": {
    "SqlCellData": {
     "variableName$1": "df_sql1"
    }
   },
   "cell_type": "code",
   "outputs": [],
   "execution_count": null,
   "source": "%%sql\n",
   "id": "63217a9c41af25fe"
  },
  {
   "metadata": {
    "ExecuteTime": {
     "end_time": "2025-06-13T16:19:26.876383Z",
     "start_time": "2025-06-13T16:19:26.871108Z"
    }
   },
   "cell_type": "code",
   "source": "df_rs.CIDADE_RESIDENCIA_PACIENTE.unique()",
   "id": "cbeb5a041673b8aa",
   "outputs": [
    {
     "data": {
      "text/plain": [
       "array(['Santa Maria', 'Pelotas', 'Ijuí', 'Porto Alegre', 'Passo Fundo',\n",
       "       'Caxias do Sul', 'Uruguaiana', 'Santa Cruz do Sul - Lajeado'],\n",
       "      dtype=object)"
      ]
     },
     "execution_count": 34,
     "metadata": {},
     "output_type": "execute_result"
    }
   ],
   "execution_count": 34
  },
  {
   "metadata": {
    "ExecuteTime": {
     "end_time": "2025-06-13T16:18:31.316110Z",
     "start_time": "2025-06-13T16:18:31.310549Z"
    }
   },
   "cell_type": "code",
   "source": "df_rs[(df_rs.MORTE == 1) & (df_rs['IDADE'] >20) ].CIDADE_RESIDENCIA_PACIENTE.value_counts()",
   "id": "a4fed3254a250725",
   "outputs": [
    {
     "data": {
      "text/plain": [
       "CIDADE_RESIDENCIA_PACIENTE\n",
       "Ijuí                           338\n",
       "Uruguaiana                     330\n",
       "Passo Fundo                    306\n",
       "Porto Alegre                   289\n",
       "Pelotas                        240\n",
       "Caxias do Sul                  201\n",
       "Santa Maria                    185\n",
       "Santa Cruz do Sul - Lajeado    170\n",
       "Name: count, dtype: int64"
      ]
     },
     "execution_count": 32,
     "metadata": {},
     "output_type": "execute_result"
    }
   ],
   "execution_count": 32
  },
  {
   "metadata": {
    "ExecuteTime": {
     "end_time": "2025-06-13T16:07:27.781177Z",
     "start_time": "2025-06-13T16:07:27.776935Z"
    }
   },
   "cell_type": "code",
   "source": "df_rs[(df_rs.MORTE == 1) & (df_rs.IDADE >60)].shape[0]",
   "id": "56632f130317fd10",
   "outputs": [
    {
     "data": {
      "text/plain": [
       "1455"
      ]
     },
     "execution_count": 9,
     "metadata": {},
     "output_type": "execute_result"
    }
   ],
   "execution_count": 9
  },
  {
   "metadata": {
    "ExecuteTime": {
     "end_time": "2025-06-13T16:21:37.450099Z",
     "start_time": "2025-06-13T16:21:37.445662Z"
    }
   },
   "cell_type": "code",
   "source": "df_rs.CID_MORTE.unique()",
   "id": "5d57db8d20f344cd",
   "outputs": [
    {
     "data": {
      "text/plain": [
       "array(['0', '0000', '    ', 'E46 ', 'G710', 'D860', 'I200', 'C248',\n",
       "       'P072', 'N328', 'E43 ', 'R570', 'E138', 'I64 ', 'B24 ', 'N188',\n",
       "       'B209', 'I469', 'N179', 'T180', 'J81 ', 'I269', 'J950', 'Q850',\n",
       "       'S069', 'R092', 'C341', 'C250', 'A418', 'K632', 'K746', 'M511',\n",
       "       'B203', 'J960', 'J958', 'Y711', 'I743', 'I713', 'A419', 'C240',\n",
       "       'I351', 'K658', 'I350', 'R579', 'D752', 'J984', 'K870', 'I255',\n",
       "       'R578', 'I608', 'S222', 'I618', 'I358', 'B201', 'C180', 'C340',\n",
       "       'A409', 'J852', 'K920', 'K750', 'I279', 'Q203', 'Q234', 'Q230',\n",
       "       'K819', 'N178', 'S063', 'T818', 'J969', 'I499', 'J985', 'C787',\n",
       "       'G808', 'B690', 'I621', 'S221', 'G961', 'A079', 'T813', 'I062',\n",
       "       'I711', 'S350', 'G409', 'K225', 'N180', 'C258', 'C494', 'R100',\n",
       "       'M311', 'I159', 'T026', 'I609', 'S065', 'T846', 'I710', 'I509',\n",
       "       'J159', 'M432', 'C838', 'J938', 'C920', 'Q219', 'J848', 'B188',\n",
       "       'M349', 'C61 ', 'G958', 'C162', 'G629', 'C151', 'K938', 'D483',\n",
       "       'I313', 'I289', 'I601', 'R960', 'I219', 'I209', 'L539', 'C384',\n",
       "       'D381', 'G07 ', 'S062', 'K564', 'K631', 'O469', 'I635', 'I714',\n",
       "       'N390', 'Q759', 'N151', 'C159', 'K805', 'C189', 'D002', 'E108',\n",
       "       'K562', 'J128', 'I723', 'Q899'], dtype=object)"
      ]
     },
     "execution_count": 35,
     "metadata": {},
     "output_type": "execute_result"
    }
   ],
   "execution_count": 35
  },
  {
   "metadata": {
    "ExecuteTime": {
     "end_time": "2025-06-13T16:09:44.765202Z",
     "start_time": "2025-06-13T16:09:44.759779Z"
    }
   },
   "cell_type": "code",
   "source": "",
   "id": "bdbee7fea1fc8cf7",
   "outputs": [
    {
     "data": {
      "text/plain": [
       "SEXO\n",
       "1    1236\n",
       "3     966\n",
       "Name: count, dtype: int64"
      ]
     },
     "execution_count": 20,
     "metadata": {},
     "output_type": "execute_result"
    }
   ],
   "execution_count": 20
  },
  {
   "metadata": {
    "ExecuteTime": {
     "end_time": "2025-06-13T16:07:27.943563Z",
     "start_time": "2025-06-13T16:07:27.940338Z"
    }
   },
   "cell_type": "code",
   "source": "df_rs.IDADE.mean()",
   "id": "817bb269f41d220b",
   "outputs": [
    {
     "data": {
      "text/plain": [
       "np.float64(46.70495268945529)"
      ]
     },
     "execution_count": 11,
     "metadata": {},
     "output_type": "execute_result"
    }
   ],
   "execution_count": 11
  },
  {
   "metadata": {
    "ExecuteTime": {
     "end_time": "2025-06-13T16:07:28.006942Z",
     "start_time": "2025-06-13T16:07:27.998919Z"
    }
   },
   "cell_type": "code",
   "source": [
    "import sqlite3\n",
    "import pandas as pd\n",
    "\n",
    "# Conectar ao banco de dados\n",
    "conn = sqlite3.connect(\"/home/maiconkevyn/PycharmProjects/txt2sql/sus_data.db\")\n",
    "\n",
    "# Listar todas as tabelas disponíveis\n",
    "cursor = conn.cursor()\n",
    "cursor.execute(\"SELECT name FROM sqlite_master WHERE type='table';\")\n",
    "tabelas = [tabela[0] for tabela in cursor.fetchall()]\n",
    "\n",
    "print(\"Tabelas disponíveis:\")\n",
    "for tabela in tabelas:\n",
    "    print(f\"- {tabela}\")\n",
    "    # Mostrar primeiras 5 linhas de cada tabela\n",
    "    df = pd.read_sql(f\"SELECT * FROM {tabela} LIMIT 5\", conn)\n",
    "    print(df)\n",
    "    print(\"-\" * 50)\n",
    "\n",
    "conn.close()"
   ],
   "id": "b72ccf4c1f259e7f",
   "outputs": [
    {
     "name": "stdout",
     "output_type": "stream",
     "text": [
      "Tabelas disponíveis:\n",
      "- dados_sus3\n",
      "  DIAG_PRINC  MUNIC_RES  MUNIC_MOV   PROC_REA  IDADE  SEXO CID_MORTE  MORTE  \\\n",
      "0       A46      430300     430300  303080078     67     3         0      0   \n",
      "1       C168     430300     430300  304100021     60     1         0      0   \n",
      "2       J128     430300     430300  303140151     76     3         0      1   \n",
      "3       I500     430300     430300  303060212     62     1         0      1   \n",
      "4       I158     430300     430300  303060107     29     3         0      0   \n",
      "\n",
      "      CNES  VAL_TOT  UTI_MES_TO  DT_INTER  DT_SAIDA  total_ocorrencias  \\\n",
      "0  2266474   292.62           0  20170803  20170808              24485   \n",
      "1  2266474   797.11           0  20170803  20170805              24485   \n",
      "2  2266474  4987.52           8  20170726  20170803              24485   \n",
      "3  2266474  2702.50           4  20170802  20170805              24485   \n",
      "4  2266474  1737.69           2  20170804  20170810              24485   \n",
      "\n",
      "  UF_RESIDENCIA_PACIENTE CIDADE_RESIDENCIA_PACIENTE  LATI_CIDADE_RES  \\\n",
      "0      Rio Grande do Sul                Santa Maria       -29.686051   \n",
      "1      Rio Grande do Sul                Santa Maria       -29.686051   \n",
      "2      Rio Grande do Sul                Santa Maria       -29.686051   \n",
      "3      Rio Grande do Sul                Santa Maria       -29.686051   \n",
      "4      Rio Grande do Sul                Santa Maria       -29.686051   \n",
      "\n",
      "   LONG_CIDADE_RES  \n",
      "0       -53.806921  \n",
      "1       -53.806921  \n",
      "2       -53.806921  \n",
      "3       -53.806921  \n",
      "4       -53.806921  \n",
      "--------------------------------------------------\n"
     ]
    }
   ],
   "execution_count": 12
  },
  {
   "metadata": {
    "ExecuteTime": {
     "end_time": "2025-06-13T17:31:11.243234Z",
     "start_time": "2025-06-13T17:31:11.231870Z"
    }
   },
   "cell_type": "code",
   "source": [
    "doencas_respiratorias = df_rs[df_rs['DIAG_PRINC'].str.startswith('J', na=False)]\n",
    "len(doencas_respiratorias)\n"
   ],
   "id": "75fccb0d0cb357fe",
   "outputs": [
    {
     "data": {
      "text/plain": [
       "2785"
      ]
     },
     "execution_count": 43,
     "metadata": {},
     "output_type": "execute_result"
    }
   ],
   "execution_count": 43
  },
  {
   "metadata": {},
   "cell_type": "code",
   "outputs": [],
   "execution_count": null,
   "source": "",
   "id": "8192b430889eab86"
  }
 ],
 "metadata": {
  "kernelspec": {
   "display_name": "Python 3",
   "language": "python",
   "name": "python3"
  },
  "language_info": {
   "codemirror_mode": {
    "name": "ipython",
    "version": 2
   },
   "file_extension": ".py",
   "mimetype": "text/x-python",
   "name": "python",
   "nbconvert_exporter": "python",
   "pygments_lexer": "ipython2",
   "version": "2.7.6"
  }
 },
 "nbformat": 4,
 "nbformat_minor": 5
}
