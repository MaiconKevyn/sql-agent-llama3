{
 "cells": [
  {
   "cell_type": "code",
   "id": "initial_id",
   "metadata": {
    "collapsed": true,
    "ExecuteTime": {
     "end_time": "2025-06-06T12:17:54.633559Z",
     "start_time": "2025-06-06T12:17:54.427227Z"
    }
   },
   "source": [
    "import os\n",
    "import pandas as pd\n",
    "\n",
    "caminho_relativo = os.path.join('..', 'data', 'dados_sus3.csv')\n",
    "caminho_arquivo = os.path.abspath(caminho_relativo)\n",
    "\n",
    "df = pd.read_csv(caminho_arquivo)\n",
    "df.shape"
   ],
   "outputs": [
    {
     "name": "stderr",
     "output_type": "stream",
     "text": [
      "/tmp/ipykernel_97711/2101119359.py:7: DtypeWarning: Columns (6) have mixed types. Specify dtype option on import or set low_memory=False.\n",
      "  df = pd.read_csv(caminho_arquivo)\n"
     ]
    },
    {
     "data": {
      "text/plain": [
       "(185298, 18)"
      ]
     },
     "execution_count": 15,
     "metadata": {},
     "output_type": "execute_result"
    }
   ],
   "execution_count": 15
  },
  {
   "metadata": {
    "ExecuteTime": {
     "end_time": "2025-06-06T12:17:54.662536Z",
     "start_time": "2025-06-06T12:17:54.654236Z"
    }
   },
   "cell_type": "code",
   "source": "df.MORTE.value_counts()",
   "id": "5cea95daed1d104a",
   "outputs": [
    {
     "data": {
      "text/plain": [
       "MORTE\n",
       "0    178500\n",
       "1      6798\n",
       "Name: count, dtype: int64"
      ]
     },
     "execution_count": 16,
     "metadata": {},
     "output_type": "execute_result"
    }
   ],
   "execution_count": 16
  },
  {
   "metadata": {
    "ExecuteTime": {
     "end_time": "2025-06-06T12:17:54.755486Z",
     "start_time": "2025-06-06T12:17:54.736193Z"
    }
   },
   "cell_type": "code",
   "source": [
    "df_rs = df[df.UF_RESIDENCIA_PACIENTE == 'Rio Grande do Sul']\n",
    "df_rs.shape"
   ],
   "id": "24dccac3fb545353",
   "outputs": [
    {
     "data": {
      "text/plain": [
       "(58655, 18)"
      ]
     },
     "execution_count": 17,
     "metadata": {},
     "output_type": "execute_result"
    }
   ],
   "execution_count": 17
  },
  {
   "metadata": {
    "ExecuteTime": {
     "end_time": "2025-06-06T12:17:55.098534Z",
     "start_time": "2025-06-06T12:17:55.090315Z"
    }
   },
   "cell_type": "code",
   "source": "df_rs",
   "id": "c732347ed032c0d5",
   "outputs": [
    {
     "data": {
      "text/plain": [
       "       DIAG_PRINC  MUNIC_RES  MUNIC_MOV   PROC_REA  IDADE  SEXO CID_MORTE  \\\n",
       "0            A46      430300     430300  303080078     67     3         0   \n",
       "1            C168     430300     430300  304100021     60     1         0   \n",
       "2            J128     430300     430300  303140151     76     3         0   \n",
       "3            I500     430300     430300  303060212     62     1         0   \n",
       "4            I158     430300     430300  303060107     29     3         0   \n",
       "...           ...        ...        ...        ...    ...   ...       ...   \n",
       "185287       M869     430460     430460  201010330     45     1             \n",
       "185288       S029     430460     430460  404030033     58     1             \n",
       "185290       S027     430645     430460  404020542     69     1             \n",
       "185292       S823     430690     430460  408050608     37     1             \n",
       "185295       M502     430460     430460  408030445     76     3             \n",
       "\n",
       "        MORTE     CNES  VAL_TOT  UTI_MES_TO  DT_INTER  DT_SAIDA  \\\n",
       "0           0  2266474   292.62           0  20170803  20170808   \n",
       "1           0  2266474   797.11           0  20170803  20170805   \n",
       "2           1  2266474  4987.52           8  20170726  20170803   \n",
       "3           1  2266474  2702.50           4  20170802  20170805   \n",
       "4           0  2266474  1737.69           2  20170804  20170810   \n",
       "...       ...      ...      ...         ...       ...       ...   \n",
       "185287      0  3508528   212.26           0  20140106  20140416   \n",
       "185288      0  3508528  1875.40           0  20140114  20140116   \n",
       "185290      0  3626245   355.15           0  20140221  20140222   \n",
       "185292      0  3626245  1695.42           0  20140302  20140314   \n",
       "185295      0  3626245  4515.42           5  20140310  20140318   \n",
       "\n",
       "        total_ocorrencias UF_RESIDENCIA_PACIENTE CIDADE_RESIDENCIA_PACIENTE  \\\n",
       "0                   24485      Rio Grande do Sul                Santa Maria   \n",
       "1                   24485      Rio Grande do Sul                Santa Maria   \n",
       "2                   24485      Rio Grande do Sul                Santa Maria   \n",
       "3                   24485      Rio Grande do Sul                Santa Maria   \n",
       "4                   24485      Rio Grande do Sul                Santa Maria   \n",
       "...                   ...                    ...                        ...   \n",
       "185287             116612      Rio Grande do Sul                 Uruguaiana   \n",
       "185288             116612      Rio Grande do Sul                 Uruguaiana   \n",
       "185290               1800      Rio Grande do Sul                Passo Fundo   \n",
       "185292               8956      Rio Grande do Sul                Passo Fundo   \n",
       "185295             116612      Rio Grande do Sul                 Uruguaiana   \n",
       "\n",
       "        LATI_CIDADE_RES  LONG_CIDADE_RES  \n",
       "0            -29.686051       -53.806921  \n",
       "1            -29.686051       -53.806921  \n",
       "2            -29.686051       -53.806921  \n",
       "3            -29.686051       -53.806921  \n",
       "4            -29.686051       -53.806921  \n",
       "...                 ...              ...  \n",
       "185287       -29.756073       -57.086755  \n",
       "185288       -29.756073       -57.086755  \n",
       "185290       -28.255060       -52.396661  \n",
       "185292       -28.255060       -52.396661  \n",
       "185295       -29.756073       -57.086755  \n",
       "\n",
       "[58655 rows x 18 columns]"
      ],
      "text/html": [
       "<div>\n",
       "<style scoped>\n",
       "    .dataframe tbody tr th:only-of-type {\n",
       "        vertical-align: middle;\n",
       "    }\n",
       "\n",
       "    .dataframe tbody tr th {\n",
       "        vertical-align: top;\n",
       "    }\n",
       "\n",
       "    .dataframe thead th {\n",
       "        text-align: right;\n",
       "    }\n",
       "</style>\n",
       "<table border=\"1\" class=\"dataframe\">\n",
       "  <thead>\n",
       "    <tr style=\"text-align: right;\">\n",
       "      <th></th>\n",
       "      <th>DIAG_PRINC</th>\n",
       "      <th>MUNIC_RES</th>\n",
       "      <th>MUNIC_MOV</th>\n",
       "      <th>PROC_REA</th>\n",
       "      <th>IDADE</th>\n",
       "      <th>SEXO</th>\n",
       "      <th>CID_MORTE</th>\n",
       "      <th>MORTE</th>\n",
       "      <th>CNES</th>\n",
       "      <th>VAL_TOT</th>\n",
       "      <th>UTI_MES_TO</th>\n",
       "      <th>DT_INTER</th>\n",
       "      <th>DT_SAIDA</th>\n",
       "      <th>total_ocorrencias</th>\n",
       "      <th>UF_RESIDENCIA_PACIENTE</th>\n",
       "      <th>CIDADE_RESIDENCIA_PACIENTE</th>\n",
       "      <th>LATI_CIDADE_RES</th>\n",
       "      <th>LONG_CIDADE_RES</th>\n",
       "    </tr>\n",
       "  </thead>\n",
       "  <tbody>\n",
       "    <tr>\n",
       "      <th>0</th>\n",
       "      <td>A46</td>\n",
       "      <td>430300</td>\n",
       "      <td>430300</td>\n",
       "      <td>303080078</td>\n",
       "      <td>67</td>\n",
       "      <td>3</td>\n",
       "      <td>0</td>\n",
       "      <td>0</td>\n",
       "      <td>2266474</td>\n",
       "      <td>292.62</td>\n",
       "      <td>0</td>\n",
       "      <td>20170803</td>\n",
       "      <td>20170808</td>\n",
       "      <td>24485</td>\n",
       "      <td>Rio Grande do Sul</td>\n",
       "      <td>Santa Maria</td>\n",
       "      <td>-29.686051</td>\n",
       "      <td>-53.806921</td>\n",
       "    </tr>\n",
       "    <tr>\n",
       "      <th>1</th>\n",
       "      <td>C168</td>\n",
       "      <td>430300</td>\n",
       "      <td>430300</td>\n",
       "      <td>304100021</td>\n",
       "      <td>60</td>\n",
       "      <td>1</td>\n",
       "      <td>0</td>\n",
       "      <td>0</td>\n",
       "      <td>2266474</td>\n",
       "      <td>797.11</td>\n",
       "      <td>0</td>\n",
       "      <td>20170803</td>\n",
       "      <td>20170805</td>\n",
       "      <td>24485</td>\n",
       "      <td>Rio Grande do Sul</td>\n",
       "      <td>Santa Maria</td>\n",
       "      <td>-29.686051</td>\n",
       "      <td>-53.806921</td>\n",
       "    </tr>\n",
       "    <tr>\n",
       "      <th>2</th>\n",
       "      <td>J128</td>\n",
       "      <td>430300</td>\n",
       "      <td>430300</td>\n",
       "      <td>303140151</td>\n",
       "      <td>76</td>\n",
       "      <td>3</td>\n",
       "      <td>0</td>\n",
       "      <td>1</td>\n",
       "      <td>2266474</td>\n",
       "      <td>4987.52</td>\n",
       "      <td>8</td>\n",
       "      <td>20170726</td>\n",
       "      <td>20170803</td>\n",
       "      <td>24485</td>\n",
       "      <td>Rio Grande do Sul</td>\n",
       "      <td>Santa Maria</td>\n",
       "      <td>-29.686051</td>\n",
       "      <td>-53.806921</td>\n",
       "    </tr>\n",
       "    <tr>\n",
       "      <th>3</th>\n",
       "      <td>I500</td>\n",
       "      <td>430300</td>\n",
       "      <td>430300</td>\n",
       "      <td>303060212</td>\n",
       "      <td>62</td>\n",
       "      <td>1</td>\n",
       "      <td>0</td>\n",
       "      <td>1</td>\n",
       "      <td>2266474</td>\n",
       "      <td>2702.50</td>\n",
       "      <td>4</td>\n",
       "      <td>20170802</td>\n",
       "      <td>20170805</td>\n",
       "      <td>24485</td>\n",
       "      <td>Rio Grande do Sul</td>\n",
       "      <td>Santa Maria</td>\n",
       "      <td>-29.686051</td>\n",
       "      <td>-53.806921</td>\n",
       "    </tr>\n",
       "    <tr>\n",
       "      <th>4</th>\n",
       "      <td>I158</td>\n",
       "      <td>430300</td>\n",
       "      <td>430300</td>\n",
       "      <td>303060107</td>\n",
       "      <td>29</td>\n",
       "      <td>3</td>\n",
       "      <td>0</td>\n",
       "      <td>0</td>\n",
       "      <td>2266474</td>\n",
       "      <td>1737.69</td>\n",
       "      <td>2</td>\n",
       "      <td>20170804</td>\n",
       "      <td>20170810</td>\n",
       "      <td>24485</td>\n",
       "      <td>Rio Grande do Sul</td>\n",
       "      <td>Santa Maria</td>\n",
       "      <td>-29.686051</td>\n",
       "      <td>-53.806921</td>\n",
       "    </tr>\n",
       "    <tr>\n",
       "      <th>...</th>\n",
       "      <td>...</td>\n",
       "      <td>...</td>\n",
       "      <td>...</td>\n",
       "      <td>...</td>\n",
       "      <td>...</td>\n",
       "      <td>...</td>\n",
       "      <td>...</td>\n",
       "      <td>...</td>\n",
       "      <td>...</td>\n",
       "      <td>...</td>\n",
       "      <td>...</td>\n",
       "      <td>...</td>\n",
       "      <td>...</td>\n",
       "      <td>...</td>\n",
       "      <td>...</td>\n",
       "      <td>...</td>\n",
       "      <td>...</td>\n",
       "      <td>...</td>\n",
       "    </tr>\n",
       "    <tr>\n",
       "      <th>185287</th>\n",
       "      <td>M869</td>\n",
       "      <td>430460</td>\n",
       "      <td>430460</td>\n",
       "      <td>201010330</td>\n",
       "      <td>45</td>\n",
       "      <td>1</td>\n",
       "      <td></td>\n",
       "      <td>0</td>\n",
       "      <td>3508528</td>\n",
       "      <td>212.26</td>\n",
       "      <td>0</td>\n",
       "      <td>20140106</td>\n",
       "      <td>20140416</td>\n",
       "      <td>116612</td>\n",
       "      <td>Rio Grande do Sul</td>\n",
       "      <td>Uruguaiana</td>\n",
       "      <td>-29.756073</td>\n",
       "      <td>-57.086755</td>\n",
       "    </tr>\n",
       "    <tr>\n",
       "      <th>185288</th>\n",
       "      <td>S029</td>\n",
       "      <td>430460</td>\n",
       "      <td>430460</td>\n",
       "      <td>404030033</td>\n",
       "      <td>58</td>\n",
       "      <td>1</td>\n",
       "      <td></td>\n",
       "      <td>0</td>\n",
       "      <td>3508528</td>\n",
       "      <td>1875.40</td>\n",
       "      <td>0</td>\n",
       "      <td>20140114</td>\n",
       "      <td>20140116</td>\n",
       "      <td>116612</td>\n",
       "      <td>Rio Grande do Sul</td>\n",
       "      <td>Uruguaiana</td>\n",
       "      <td>-29.756073</td>\n",
       "      <td>-57.086755</td>\n",
       "    </tr>\n",
       "    <tr>\n",
       "      <th>185290</th>\n",
       "      <td>S027</td>\n",
       "      <td>430645</td>\n",
       "      <td>430460</td>\n",
       "      <td>404020542</td>\n",
       "      <td>69</td>\n",
       "      <td>1</td>\n",
       "      <td></td>\n",
       "      <td>0</td>\n",
       "      <td>3626245</td>\n",
       "      <td>355.15</td>\n",
       "      <td>0</td>\n",
       "      <td>20140221</td>\n",
       "      <td>20140222</td>\n",
       "      <td>1800</td>\n",
       "      <td>Rio Grande do Sul</td>\n",
       "      <td>Passo Fundo</td>\n",
       "      <td>-28.255060</td>\n",
       "      <td>-52.396661</td>\n",
       "    </tr>\n",
       "    <tr>\n",
       "      <th>185292</th>\n",
       "      <td>S823</td>\n",
       "      <td>430690</td>\n",
       "      <td>430460</td>\n",
       "      <td>408050608</td>\n",
       "      <td>37</td>\n",
       "      <td>1</td>\n",
       "      <td></td>\n",
       "      <td>0</td>\n",
       "      <td>3626245</td>\n",
       "      <td>1695.42</td>\n",
       "      <td>0</td>\n",
       "      <td>20140302</td>\n",
       "      <td>20140314</td>\n",
       "      <td>8956</td>\n",
       "      <td>Rio Grande do Sul</td>\n",
       "      <td>Passo Fundo</td>\n",
       "      <td>-28.255060</td>\n",
       "      <td>-52.396661</td>\n",
       "    </tr>\n",
       "    <tr>\n",
       "      <th>185295</th>\n",
       "      <td>M502</td>\n",
       "      <td>430460</td>\n",
       "      <td>430460</td>\n",
       "      <td>408030445</td>\n",
       "      <td>76</td>\n",
       "      <td>3</td>\n",
       "      <td></td>\n",
       "      <td>0</td>\n",
       "      <td>3626245</td>\n",
       "      <td>4515.42</td>\n",
       "      <td>5</td>\n",
       "      <td>20140310</td>\n",
       "      <td>20140318</td>\n",
       "      <td>116612</td>\n",
       "      <td>Rio Grande do Sul</td>\n",
       "      <td>Uruguaiana</td>\n",
       "      <td>-29.756073</td>\n",
       "      <td>-57.086755</td>\n",
       "    </tr>\n",
       "  </tbody>\n",
       "</table>\n",
       "<p>58655 rows × 18 columns</p>\n",
       "</div>"
      ]
     },
     "execution_count": 18,
     "metadata": {},
     "output_type": "execute_result"
    }
   ],
   "execution_count": 18
  },
  {
   "metadata": {
    "ExecuteTime": {
     "end_time": "2025-06-06T12:17:55.428843Z",
     "start_time": "2025-06-06T12:17:55.166628Z"
    }
   },
   "cell_type": "code",
   "source": "df_rs.to_csv(\"../data/dados_sus3.csv\", index=False)",
   "id": "a5eb887faf2debac",
   "outputs": [],
   "execution_count": 19
  },
  {
   "metadata": {
    "ExecuteTime": {
     "end_time": "2025-06-06T12:17:55.465829Z",
     "start_time": "2025-06-06T12:17:55.460349Z"
    }
   },
   "cell_type": "code",
   "source": "df_rs.CIDADE_RESIDENCIA_PACIENTE.value_counts()",
   "id": "ddb94dfaef73c7f1",
   "outputs": [
    {
     "data": {
      "text/plain": [
       "CIDADE_RESIDENCIA_PACIENTE\n",
       "Uruguaiana                     9288\n",
       "Ijuí                           8809\n",
       "Passo Fundo                    8787\n",
       "Porto Alegre                   7036\n",
       "Caxias do Sul                  6825\n",
       "Pelotas                        6627\n",
       "Santa Cruz do Sul - Lajeado    5766\n",
       "Santa Maria                    5517\n",
       "Name: count, dtype: int64"
      ]
     },
     "execution_count": 20,
     "metadata": {},
     "output_type": "execute_result"
    }
   ],
   "execution_count": 20
  },
  {
   "metadata": {
    "ExecuteTime": {
     "end_time": "2025-06-06T14:19:44.079972Z",
     "start_time": "2025-06-06T14:19:44.075560Z"
    }
   },
   "cell_type": "code",
   "source": [
    "#count how many MORTE ==1 are\n",
    "df_rs[df_rs.MORTE == 1].shape[0]"
   ],
   "id": "6f017de707d4071c",
   "outputs": [
    {
     "data": {
      "text/plain": [
       "2202"
      ]
     },
     "execution_count": 31,
     "metadata": {},
     "output_type": "execute_result"
    }
   ],
   "execution_count": 31
  },
  {
   "metadata": {
    "ExecuteTime": {
     "end_time": "2025-06-06T15:09:12.129525Z",
     "start_time": "2025-06-06T15:09:12.118042Z"
    }
   },
   "cell_type": "code",
   "source": [
    "#mortes por cidades\n",
    "df_rs[(df_rs.MORTE == 1) & (df_rs.CIDADE_RESIDENCIA_PACIENTE == 'Santa Maria')].SEXO.value_counts()"
   ],
   "id": "40704a35ffb23b60",
   "outputs": [
    {
     "data": {
      "text/plain": [
       "SEXO\n",
       "1    112\n",
       "3     92\n",
       "Name: count, dtype: int64"
      ]
     },
     "execution_count": 36,
     "metadata": {},
     "output_type": "execute_result"
    }
   ],
   "execution_count": 36
  },
  {
   "metadata": {
    "ExecuteTime": {
     "end_time": "2025-06-06T12:17:55.956720190Z",
     "start_time": "2025-06-06T02:53:48.894370Z"
    }
   },
   "cell_type": "code",
   "source": [
    "import sqlite3\n",
    "import pandas as pd\n",
    "\n",
    "# Conectar ao banco de dados\n",
    "conn = sqlite3.connect(\"/home/maiconkevyn/PycharmProjects/txt2sql/sus_data.db\")\n",
    "\n",
    "# Listar todas as tabelas disponíveis\n",
    "cursor = conn.cursor()\n",
    "cursor.execute(\"SELECT name FROM sqlite_master WHERE type='table';\")\n",
    "tabelas = [tabela[0] for tabela in cursor.fetchall()]\n",
    "\n",
    "print(\"Tabelas disponíveis:\")\n",
    "for tabela in tabelas:\n",
    "    print(f\"- {tabela}\")\n",
    "    # Mostrar primeiras 5 linhas de cada tabela\n",
    "    df = pd.read_sql(f\"SELECT * FROM {tabela} LIMIT 5\", conn)\n",
    "    print(df)\n",
    "    print(\"-\" * 50)\n",
    "\n",
    "conn.close()"
   ],
   "id": "b72ccf4c1f259e7f",
   "outputs": [
    {
     "name": "stdout",
     "output_type": "stream",
     "text": [
      "Tabelas disponíveis:\n",
      "- rs_table\n",
      "  DIAG_PRINC  MUNIC_RES  MUNIC_MOV   PROC_REA  IDADE  SEXO CID_MORTE  MORTE  \\\n",
      "0       A46      430300     430300  303080078     67     3         0      0   \n",
      "1       C168     430300     430300  304100021     60     1         0      0   \n",
      "2       J128     430300     430300  303140151     76     3         0      1   \n",
      "3       I500     430300     430300  303060212     62     1         0      1   \n",
      "4       I158     430300     430300  303060107     29     3         0      0   \n",
      "\n",
      "      CNES  VAL_TOT  UTI_MES_TO  DT_INTER  DT_SAIDA  total_ocorrencias  \\\n",
      "0  2266474   292.62           0  20170803  20170808              24485   \n",
      "1  2266474   797.11           0  20170803  20170805              24485   \n",
      "2  2266474  4987.52           8  20170726  20170803              24485   \n",
      "3  2266474  2702.50           4  20170802  20170805              24485   \n",
      "4  2266474  1737.69           2  20170804  20170810              24485   \n",
      "\n",
      "  UF_RESIDENCIA_PACIENTE CIDADE_RESIDENCIA_PACIENTE  LATI_CIDADE_RES  \\\n",
      "0      Rio Grande do Sul                Santa Maria       -29.686051   \n",
      "1      Rio Grande do Sul                Santa Maria       -29.686051   \n",
      "2      Rio Grande do Sul                Santa Maria       -29.686051   \n",
      "3      Rio Grande do Sul                Santa Maria       -29.686051   \n",
      "4      Rio Grande do Sul                Santa Maria       -29.686051   \n",
      "\n",
      "   LONG_CIDADE_RES  \n",
      "0       -53.806921  \n",
      "1       -53.806921  \n",
      "2       -53.806921  \n",
      "3       -53.806921  \n",
      "4       -53.806921  \n",
      "--------------------------------------------------\n"
     ]
    }
   ],
   "execution_count": 12
  }
 ],
 "metadata": {
  "kernelspec": {
   "display_name": "Python 3",
   "language": "python",
   "name": "python3"
  },
  "language_info": {
   "codemirror_mode": {
    "name": "ipython",
    "version": 2
   },
   "file_extension": ".py",
   "mimetype": "text/x-python",
   "name": "python",
   "nbconvert_exporter": "python",
   "pygments_lexer": "ipython2",
   "version": "2.7.6"
  }
 },
 "nbformat": 4,
 "nbformat_minor": 5
}
