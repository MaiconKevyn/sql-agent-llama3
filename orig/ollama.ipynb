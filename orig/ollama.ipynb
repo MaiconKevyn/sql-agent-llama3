{
 "cells": [
  {
   "cell_type": "code",
   "id": "initial_id",
   "metadata": {
    "collapsed": true,
    "ExecuteTime": {
     "end_time": "2025-06-06T00:36:55.733681Z",
     "start_time": "2025-06-06T00:36:55.095375Z"
    }
   },
   "source": "!pip install langchain langchain_community ollama\n",
   "outputs": [
    {
     "name": "stdout",
     "output_type": "stream",
     "text": [
      "/bin/bash: warning: setlocale: LC_ALL: cannot change locale (en_US.UTF-8)\r\n",
      "Requirement already satisfied: langchain in ./.venv/lib/python3.11/site-packages (0.3.25)\r\n",
      "Requirement already satisfied: langchain_community in ./.venv/lib/python3.11/site-packages (0.3.24)\r\n",
      "Requirement already satisfied: ollama in ./.venv/lib/python3.11/site-packages (0.5.1)\r\n",
      "Requirement already satisfied: langchain-core<1.0.0,>=0.3.58 in ./.venv/lib/python3.11/site-packages (from langchain) (0.3.64)\r\n",
      "Requirement already satisfied: langchain-text-splitters<1.0.0,>=0.3.8 in ./.venv/lib/python3.11/site-packages (from langchain) (0.3.8)\r\n",
      "Requirement already satisfied: langsmith<0.4,>=0.1.17 in ./.venv/lib/python3.11/site-packages (from langchain) (0.3.45)\r\n",
      "Requirement already satisfied: pydantic<3.0.0,>=2.7.4 in ./.venv/lib/python3.11/site-packages (from langchain) (2.11.5)\r\n",
      "Requirement already satisfied: SQLAlchemy<3,>=1.4 in ./.venv/lib/python3.11/site-packages (from langchain) (2.0.41)\r\n",
      "Requirement already satisfied: requests<3,>=2 in ./.venv/lib/python3.11/site-packages (from langchain) (2.32.3)\r\n",
      "Requirement already satisfied: PyYAML>=5.3 in ./.venv/lib/python3.11/site-packages (from langchain) (6.0.2)\r\n",
      "Requirement already satisfied: aiohttp<4.0.0,>=3.8.3 in ./.venv/lib/python3.11/site-packages (from langchain_community) (3.12.9)\r\n",
      "Requirement already satisfied: tenacity!=8.4.0,<10,>=8.1.0 in ./.venv/lib/python3.11/site-packages (from langchain_community) (9.1.2)\r\n",
      "Requirement already satisfied: dataclasses-json<0.7,>=0.5.7 in ./.venv/lib/python3.11/site-packages (from langchain_community) (0.6.7)\r\n",
      "Requirement already satisfied: pydantic-settings<3.0.0,>=2.4.0 in ./.venv/lib/python3.11/site-packages (from langchain_community) (2.9.1)\r\n",
      "Requirement already satisfied: httpx-sse<1.0.0,>=0.4.0 in ./.venv/lib/python3.11/site-packages (from langchain_community) (0.4.0)\r\n",
      "Requirement already satisfied: numpy>=1.26.2 in ./.venv/lib/python3.11/site-packages (from langchain_community) (2.1.3)\r\n",
      "Requirement already satisfied: httpx>=0.27 in ./.venv/lib/python3.11/site-packages (from ollama) (0.28.1)\r\n",
      "Requirement already satisfied: aiohappyeyeballs>=2.5.0 in ./.venv/lib/python3.11/site-packages (from aiohttp<4.0.0,>=3.8.3->langchain_community) (2.6.1)\r\n",
      "Requirement already satisfied: aiosignal>=1.1.2 in ./.venv/lib/python3.11/site-packages (from aiohttp<4.0.0,>=3.8.3->langchain_community) (1.3.2)\r\n",
      "Requirement already satisfied: attrs>=17.3.0 in ./.venv/lib/python3.11/site-packages (from aiohttp<4.0.0,>=3.8.3->langchain_community) (25.3.0)\r\n",
      "Requirement already satisfied: frozenlist>=1.1.1 in ./.venv/lib/python3.11/site-packages (from aiohttp<4.0.0,>=3.8.3->langchain_community) (1.6.2)\r\n",
      "Requirement already satisfied: multidict<7.0,>=4.5 in ./.venv/lib/python3.11/site-packages (from aiohttp<4.0.0,>=3.8.3->langchain_community) (6.4.4)\r\n",
      "Requirement already satisfied: propcache>=0.2.0 in ./.venv/lib/python3.11/site-packages (from aiohttp<4.0.0,>=3.8.3->langchain_community) (0.3.1)\r\n",
      "Requirement already satisfied: yarl<2.0,>=1.17.0 in ./.venv/lib/python3.11/site-packages (from aiohttp<4.0.0,>=3.8.3->langchain_community) (1.20.0)\r\n",
      "Requirement already satisfied: marshmallow<4.0.0,>=3.18.0 in ./.venv/lib/python3.11/site-packages (from dataclasses-json<0.7,>=0.5.7->langchain_community) (3.26.1)\r\n",
      "Requirement already satisfied: typing-inspect<1,>=0.4.0 in ./.venv/lib/python3.11/site-packages (from dataclasses-json<0.7,>=0.5.7->langchain_community) (0.9.0)\r\n",
      "Requirement already satisfied: anyio in ./.venv/lib/python3.11/site-packages (from httpx>=0.27->ollama) (4.9.0)\r\n",
      "Requirement already satisfied: certifi in ./.venv/lib/python3.11/site-packages (from httpx>=0.27->ollama) (2025.4.26)\r\n",
      "Requirement already satisfied: httpcore==1.* in ./.venv/lib/python3.11/site-packages (from httpx>=0.27->ollama) (1.0.9)\r\n",
      "Requirement already satisfied: idna in ./.venv/lib/python3.11/site-packages (from httpx>=0.27->ollama) (3.10)\r\n",
      "Requirement already satisfied: h11>=0.16 in ./.venv/lib/python3.11/site-packages (from httpcore==1.*->httpx>=0.27->ollama) (0.16.0)\r\n",
      "Requirement already satisfied: jsonpatch<2.0,>=1.33 in ./.venv/lib/python3.11/site-packages (from langchain-core<1.0.0,>=0.3.58->langchain) (1.33)\r\n",
      "Requirement already satisfied: packaging<25,>=23.2 in ./.venv/lib/python3.11/site-packages (from langchain-core<1.0.0,>=0.3.58->langchain) (24.2)\r\n",
      "Requirement already satisfied: typing-extensions>=4.7 in ./.venv/lib/python3.11/site-packages (from langchain-core<1.0.0,>=0.3.58->langchain) (4.14.0)\r\n",
      "Requirement already satisfied: orjson<4.0.0,>=3.9.14 in ./.venv/lib/python3.11/site-packages (from langsmith<0.4,>=0.1.17->langchain) (3.10.18)\r\n",
      "Requirement already satisfied: requests-toolbelt<2.0.0,>=1.0.0 in ./.venv/lib/python3.11/site-packages (from langsmith<0.4,>=0.1.17->langchain) (1.0.0)\r\n",
      "Requirement already satisfied: zstandard<0.24.0,>=0.23.0 in ./.venv/lib/python3.11/site-packages (from langsmith<0.4,>=0.1.17->langchain) (0.23.0)\r\n",
      "Requirement already satisfied: annotated-types>=0.6.0 in ./.venv/lib/python3.11/site-packages (from pydantic<3.0.0,>=2.7.4->langchain) (0.7.0)\r\n",
      "Requirement already satisfied: pydantic-core==2.33.2 in ./.venv/lib/python3.11/site-packages (from pydantic<3.0.0,>=2.7.4->langchain) (2.33.2)\r\n",
      "Requirement already satisfied: typing-inspection>=0.4.0 in ./.venv/lib/python3.11/site-packages (from pydantic<3.0.0,>=2.7.4->langchain) (0.4.1)\r\n",
      "Requirement already satisfied: python-dotenv>=0.21.0 in ./.venv/lib/python3.11/site-packages (from pydantic-settings<3.0.0,>=2.4.0->langchain_community) (1.1.0)\r\n",
      "Requirement already satisfied: charset-normalizer<4,>=2 in ./.venv/lib/python3.11/site-packages (from requests<3,>=2->langchain) (3.4.2)\r\n",
      "Requirement already satisfied: urllib3<3,>=1.21.1 in ./.venv/lib/python3.11/site-packages (from requests<3,>=2->langchain) (2.4.0)\r\n",
      "Requirement already satisfied: greenlet>=1 in ./.venv/lib/python3.11/site-packages (from SQLAlchemy<3,>=1.4->langchain) (3.2.3)\r\n",
      "Requirement already satisfied: jsonpointer>=1.9 in ./.venv/lib/python3.11/site-packages (from jsonpatch<2.0,>=1.33->langchain-core<1.0.0,>=0.3.58->langchain) (3.0.0)\r\n",
      "Requirement already satisfied: mypy-extensions>=0.3.0 in ./.venv/lib/python3.11/site-packages (from typing-inspect<1,>=0.4.0->dataclasses-json<0.7,>=0.5.7->langchain_community) (1.1.0)\r\n",
      "Requirement already satisfied: sniffio>=1.1 in ./.venv/lib/python3.11/site-packages (from anyio->httpx>=0.27->ollama) (1.3.1)\r\n",
      "\r\n",
      "\u001B[1m[\u001B[0m\u001B[34;49mnotice\u001B[0m\u001B[1;39;49m]\u001B[0m\u001B[39;49m A new release of pip is available: \u001B[0m\u001B[31;49m25.0.1\u001B[0m\u001B[39;49m -> \u001B[0m\u001B[32;49m25.1.1\u001B[0m\r\n",
      "\u001B[1m[\u001B[0m\u001B[34;49mnotice\u001B[0m\u001B[1;39;49m]\u001B[0m\u001B[39;49m To update, run: \u001B[0m\u001B[32;49mpip install --upgrade pip\u001B[0m\r\n"
     ]
    }
   ],
   "execution_count": 1
  },
  {
   "metadata": {
    "ExecuteTime": {
     "end_time": "2025-06-06T00:36:56.253359Z",
     "start_time": "2025-06-06T00:36:55.845741Z"
    }
   },
   "cell_type": "code",
   "source": "from langchain_community.llms import Ollama",
   "id": "88b9a9db5e955534",
   "outputs": [],
   "execution_count": 2
  },
  {
   "metadata": {
    "ExecuteTime": {
     "end_time": "2025-06-06T00:36:56.269800Z",
     "start_time": "2025-06-06T00:36:56.263571Z"
    }
   },
   "cell_type": "code",
   "source": "llm = Ollama(model = \"llama3\")",
   "id": "46918a91c098fb4b",
   "outputs": [
    {
     "name": "stderr",
     "output_type": "stream",
     "text": [
      "/tmp/ipykernel_62426/3327771726.py:1: LangChainDeprecationWarning: The class `Ollama` was deprecated in LangChain 0.3.1 and will be removed in 1.0.0. An updated version of the class exists in the :class:`~langchain-ollama package and should be used instead. To use it run `pip install -U :class:`~langchain-ollama` and import as `from :class:`~langchain_ollama import OllamaLLM``.\n",
      "  llm = Ollama(model = \"llama3\")\n"
     ]
    }
   ],
   "execution_count": 3
  },
  {
   "metadata": {
    "ExecuteTime": {
     "end_time": "2025-06-06T00:36:58.376273Z",
     "start_time": "2025-06-06T00:36:56.312489Z"
    }
   },
   "cell_type": "code",
   "source": [
    "\n",
    "for chunk in llm.stream(\"Hi how are you?\"):\n",
    "    print(chunk, end = \"\")"
   ],
   "id": "bc9b15b6a483e625",
   "outputs": [
    {
     "name": "stdout",
     "output_type": "stream",
     "text": [
      "I'm just a language model, I don't have emotions or feelings like humans do. However, I'm functioning properly and ready to assist with any questions or tasks you may have! It's great to interact with you. What brings you here today?"
     ]
    }
   ],
   "execution_count": 4
  },
  {
   "metadata": {
    "ExecuteTime": {
     "end_time": "2025-06-06T00:37:10.741326Z",
     "start_time": "2025-06-06T00:37:10.646521Z"
    }
   },
   "cell_type": "code",
   "source": "from langchain_community.utilities import SQLDatabase\n",
   "id": "6a701a63bed9160",
   "outputs": [],
   "execution_count": 5
  },
  {
   "metadata": {
    "ExecuteTime": {
     "end_time": "2025-06-06T00:37:28.324136Z",
     "start_time": "2025-06-06T00:37:28.307675Z"
    }
   },
   "cell_type": "code",
   "source": "db = SQLDatabase.from_uri(\"sqlite:///sus_data.db\", sample_rows_in_table_info = 3)\n",
   "id": "8cb6c06433f143ec",
   "outputs": [],
   "execution_count": 6
  },
  {
   "metadata": {
    "ExecuteTime": {
     "end_time": "2025-06-06T00:37:36.653697Z",
     "start_time": "2025-06-06T00:37:36.649022Z"
    }
   },
   "cell_type": "code",
   "source": "db.get_usable_table_names()\n",
   "id": "b820a0a4e69f720e",
   "outputs": [
    {
     "data": {
      "text/plain": [
       "['dados_sus', 'dados_sus3']"
      ]
     },
     "execution_count": 7,
     "metadata": {},
     "output_type": "execute_result"
    }
   ],
   "execution_count": 7
  },
  {
   "metadata": {
    "ExecuteTime": {
     "end_time": "2025-06-06T00:37:42.648141Z",
     "start_time": "2025-06-06T00:37:42.641237Z"
    }
   },
   "cell_type": "code",
   "source": "print(db.table_info)\n",
   "id": "b41673c729dd7691",
   "outputs": [
    {
     "name": "stdout",
     "output_type": "stream",
     "text": [
      "\n",
      "CREATE TABLE dados_sus (\n",
      "\t\"DIAG_PRINC\" TEXT, \n",
      "\t\"MUNIC_RES\" BIGINT, \n",
      "\t\"MUNIC_MOV\" BIGINT, \n",
      "\t\"PROC_REA\" BIGINT, \n",
      "\t\"IDADE\" BIGINT, \n",
      "\t\"SEXO\" BIGINT, \n",
      "\t\"CID_MORTE\" TEXT, \n",
      "\t\"MORTE\" BIGINT, \n",
      "\t\"CNES\" BIGINT, \n",
      "\t\"VAL_TOT\" FLOAT, \n",
      "\t\"UTI_MES_TO\" BIGINT, \n",
      "\t\"DT_INTER\" BIGINT, \n",
      "\t\"DT_SAIDA\" BIGINT, \n",
      "\ttotal_ocorrencias BIGINT, \n",
      "\t\"UF_RESIDENCIA_PACIENTE\" TEXT, \n",
      "\t\"CIDADE_RESIDENCIA_PACIENTE\" TEXT, \n",
      "\t\"LATI_CIDADE_RES\" FLOAT, \n",
      "\t\"LONG_CIDADE_RES\" FLOAT\n",
      ")\n",
      "\n",
      "/*\n",
      "3 rows from dados_sus table:\n",
      "DIAG_PRINC\tMUNIC_RES\tMUNIC_MOV\tPROC_REA\tIDADE\tSEXO\tCID_MORTE\tMORTE\tCNES\tVAL_TOT\tUTI_MES_TO\tDT_INTER\tDT_SAIDA\ttotal_ocorrencias\tUF_RESIDENCIA_PACIENTE\tCIDADE_RESIDENCIA_PACIENTE\tLATI_CIDADE_RES\tLONG_CIDADE_RES\n",
      "A46 \t430300\t430300\t303080078\t67\t3\t0\t0\t2266474\t292.62\t0\t20170803\t20170808\t24485\tRio Grande do Sul\tSanta Maria\t-29.6860512\t-53.8069214\n",
      "C168\t430300\t430300\t304100021\t60\t1\t0\t0\t2266474\t797.11\t0\t20170803\t20170805\t24485\tRio Grande do Sul\tSanta Maria\t-29.6860512\t-53.8069214\n",
      "J128\t430300\t430300\t303140151\t76\t3\t0\t1\t2266474\t4987.52\t8\t20170726\t20170803\t24485\tRio Grande do Sul\tSanta Maria\t-29.6860512\t-53.8069214\n",
      "*/\n",
      "\n",
      "\n",
      "CREATE TABLE dados_sus3 (\n",
      "\t\"DIAG_PRINC\" TEXT, \n",
      "\t\"MUNIC_RES\" BIGINT, \n",
      "\t\"MUNIC_MOV\" BIGINT, \n",
      "\t\"PROC_REA\" BIGINT, \n",
      "\t\"IDADE\" BIGINT, \n",
      "\t\"SEXO\" BIGINT, \n",
      "\t\"CID_MORTE\" TEXT, \n",
      "\t\"MORTE\" BIGINT, \n",
      "\t\"CNES\" BIGINT, \n",
      "\t\"VAL_TOT\" FLOAT, \n",
      "\t\"UTI_MES_TO\" BIGINT, \n",
      "\t\"DT_INTER\" BIGINT, \n",
      "\t\"DT_SAIDA\" BIGINT, \n",
      "\ttotal_ocorrencias BIGINT, \n",
      "\t\"UF_RESIDENCIA_PACIENTE\" TEXT, \n",
      "\t\"CIDADE_RESIDENCIA_PACIENTE\" TEXT, \n",
      "\t\"LATI_CIDADE_RES\" FLOAT, \n",
      "\t\"LONG_CIDADE_RES\" FLOAT\n",
      ")\n",
      "\n",
      "/*\n",
      "3 rows from dados_sus3 table:\n",
      "DIAG_PRINC\tMUNIC_RES\tMUNIC_MOV\tPROC_REA\tIDADE\tSEXO\tCID_MORTE\tMORTE\tCNES\tVAL_TOT\tUTI_MES_TO\tDT_INTER\tDT_SAIDA\ttotal_ocorrencias\tUF_RESIDENCIA_PACIENTE\tCIDADE_RESIDENCIA_PACIENTE\tLATI_CIDADE_RES\tLONG_CIDADE_RES\n",
      "A46 \t430300\t430300\t303080078\t67\t3\t0\t0\t2266474\t292.62\t0\t20170803\t20170808\t24485\tRio Grande do Sul\tSanta Maria\t-29.6860512\t-53.8069214\n",
      "C168\t430300\t430300\t304100021\t60\t1\t0\t0\t2266474\t797.11\t0\t20170803\t20170805\t24485\tRio Grande do Sul\tSanta Maria\t-29.6860512\t-53.8069214\n",
      "J128\t430300\t430300\t303140151\t76\t3\t0\t1\t2266474\t4987.52\t8\t20170726\t20170803\t24485\tRio Grande do Sul\tSanta Maria\t-29.6860512\t-53.8069214\n",
      "*/\n"
     ]
    }
   ],
   "execution_count": 8
  },
  {
   "metadata": {
    "ExecuteTime": {
     "end_time": "2025-06-06T00:37:48.747203Z",
     "start_time": "2025-06-06T00:37:48.497887Z"
    }
   },
   "cell_type": "code",
   "source": [
    "from langchain_community.agent_toolkits import create_sql_agent\n",
    "from langchain.agents import AgentType"
   ],
   "id": "3429dc183220f04",
   "outputs": [],
   "execution_count": 9
  },
  {
   "metadata": {
    "ExecuteTime": {
     "end_time": "2025-06-06T00:37:52.478982Z",
     "start_time": "2025-06-06T00:37:52.474602Z"
    }
   },
   "cell_type": "code",
   "source": "agent_executor = create_sql_agent(llm, db = db, agent_type=AgentType.ZERO_SHOT_REACT_DESCRIPTION, verbose = True)\n",
   "id": "587f819c962c156a",
   "outputs": [],
   "execution_count": 10
  },
  {
   "metadata": {
    "ExecuteTime": {
     "end_time": "2025-06-06T00:38:12.624362Z",
     "start_time": "2025-06-06T00:38:04.466704Z"
    }
   },
   "cell_type": "code",
   "source": "agent_executor.invoke(\"Quantas colunas existem?\")\n",
   "id": "a4593f5e647e730",
   "outputs": [
    {
     "name": "stdout",
     "output_type": "stream",
     "text": [
      "\n",
      "\n",
      "\u001B[1m> Entering new SQL Agent Executor chain...\u001B[0m\n",
      "\u001B[32;1m\u001B[1;3mLet's start by listing all the tables in the database using `sql_db_list_tables`.\n",
      "\n",
      "Action: sql_db_list_tables\n",
      "Action Input: \"\"\u001B[0m\u001B[38;5;200m\u001B[1;3mdados_sus, dados_sus3\u001B[0m\u001B[32;1m\u001B[1;3mI've listed all the tables in the database. Now I need to think about which tables are most relevant to this question \"Quantas colunas existem?\".\n",
      "\n",
      "This question is asking how many columns there are. Therefore, the most relevant table would be the INFORMATION_SCHEMA.COLUMNS table, which stores information about the columns in each table.\n",
      "\n",
      "Action: sql_db_schema\n",
      "Action Input: INFORMATION_SCHEMA.COLUMNS\u001B[0m\u001B[33;1m\u001B[1;3mError: table_names {'INFORMATION_SCHEMA.COLUMNS'} not found in database\u001B[0m\u001B[32;1m\u001B[1;3mIt seems that there is no INFORMATION_SCHEMA.COLUMNS table in this database. This could be because the SQL dialect used by this database (SQLite) does not have an INFORMATION_SCHEMA.COLUMNS table, unlike some other databases like MySQL or PostgreSQL.\n",
      "\n",
      "Let's try to query the schema of another relevant table instead. How about the \"sqlite_master\" table, which stores information about all tables in the database?\n",
      "\n",
      "Action: sql_db_schema\n",
      "Action Input: sqlite_master\u001B[0m\u001B[33;1m\u001B[1;3mError: table_names {'sqlite_master'} not found in database\u001B[0m\u001B[32;1m\u001B[1;3mIt seems that there is no INFORMATION_SCHEMA.COLUMNS and sqlite_master table in this SQLite database either. This is because SQLite does not have a built-in INFORMATION_SCHEMA or sqlite_master table, unlike some other databases like MySQL or PostgreSQL.\n",
      "\n",
      "Let's try to query the schema of another relevant table instead. How about we start by listing all the tables in the database using `sql_db_list_tables` again? Maybe there are some other tables that contain information about columns.\n",
      "\n",
      "Action: sql_db_list_tables\n",
      "Action Input: \"\"\u001B[0m\u001B[38;5;200m\u001B[1;3mdados_sus, dados_sus3\u001B[0m"
     ]
    },
    {
     "ename": "ValueError",
     "evalue": "An output parsing error occurred. In order to pass this error back to the agent and have it try again, pass `handle_parsing_errors=True` to the AgentExecutor. This is the error: Could not parse LLM output: `I cannot provide a query that is not syntactically correct. Please provide the query and I will double check it before executing it. If the query is not correct, rewrite the query, check the query, and try again.`\nFor troubleshooting, visit: https://python.langchain.com/docs/troubleshooting/errors/OUTPUT_PARSING_FAILURE ",
     "output_type": "error",
     "traceback": [
      "\u001B[31m---------------------------------------------------------------------------\u001B[39m",
      "\u001B[31mOutputParserException\u001B[39m                     Traceback (most recent call last)",
      "\u001B[36mFile \u001B[39m\u001B[32m~/PycharmProjects/txt2sql/.venv/lib/python3.11/site-packages/langchain/agents/agent.py:1354\u001B[39m, in \u001B[36mAgentExecutor._iter_next_step\u001B[39m\u001B[34m(self, name_to_tool_map, color_mapping, inputs, intermediate_steps, run_manager)\u001B[39m\n\u001B[32m   1353\u001B[39m     \u001B[38;5;66;03m# Call the LLM to see what to do.\u001B[39;00m\n\u001B[32m-> \u001B[39m\u001B[32m1354\u001B[39m     output = \u001B[38;5;28;43mself\u001B[39;49m\u001B[43m.\u001B[49m\u001B[43m_action_agent\u001B[49m\u001B[43m.\u001B[49m\u001B[43mplan\u001B[49m\u001B[43m(\u001B[49m\n\u001B[32m   1355\u001B[39m \u001B[43m        \u001B[49m\u001B[43mintermediate_steps\u001B[49m\u001B[43m,\u001B[49m\n\u001B[32m   1356\u001B[39m \u001B[43m        \u001B[49m\u001B[43mcallbacks\u001B[49m\u001B[43m=\u001B[49m\u001B[43mrun_manager\u001B[49m\u001B[43m.\u001B[49m\u001B[43mget_child\u001B[49m\u001B[43m(\u001B[49m\u001B[43m)\u001B[49m\u001B[43m \u001B[49m\u001B[38;5;28;43;01mif\u001B[39;49;00m\u001B[43m \u001B[49m\u001B[43mrun_manager\u001B[49m\u001B[43m \u001B[49m\u001B[38;5;28;43;01melse\u001B[39;49;00m\u001B[43m \u001B[49m\u001B[38;5;28;43;01mNone\u001B[39;49;00m\u001B[43m,\u001B[49m\n\u001B[32m   1357\u001B[39m \u001B[43m        \u001B[49m\u001B[43m*\u001B[49m\u001B[43m*\u001B[49m\u001B[43minputs\u001B[49m\u001B[43m,\u001B[49m\n\u001B[32m   1358\u001B[39m \u001B[43m    \u001B[49m\u001B[43m)\u001B[49m\n\u001B[32m   1359\u001B[39m \u001B[38;5;28;01mexcept\u001B[39;00m OutputParserException \u001B[38;5;28;01mas\u001B[39;00m e:\n",
      "\u001B[36mFile \u001B[39m\u001B[32m~/PycharmProjects/txt2sql/.venv/lib/python3.11/site-packages/langchain/agents/agent.py:461\u001B[39m, in \u001B[36mRunnableAgent.plan\u001B[39m\u001B[34m(self, intermediate_steps, callbacks, **kwargs)\u001B[39m\n\u001B[32m    454\u001B[39m \u001B[38;5;28;01mif\u001B[39;00m \u001B[38;5;28mself\u001B[39m.stream_runnable:\n\u001B[32m    455\u001B[39m     \u001B[38;5;66;03m# Use streaming to make sure that the underlying LLM is invoked in a\u001B[39;00m\n\u001B[32m    456\u001B[39m     \u001B[38;5;66;03m# streaming\u001B[39;00m\n\u001B[32m   (...)\u001B[39m\u001B[32m    459\u001B[39m     \u001B[38;5;66;03m# Because the response from the plan is not a generator, we need to\u001B[39;00m\n\u001B[32m    460\u001B[39m     \u001B[38;5;66;03m# accumulate the output into final output and return that.\u001B[39;00m\n\u001B[32m--> \u001B[39m\u001B[32m461\u001B[39m \u001B[43m    \u001B[49m\u001B[38;5;28;43;01mfor\u001B[39;49;00m\u001B[43m \u001B[49m\u001B[43mchunk\u001B[49m\u001B[43m \u001B[49m\u001B[38;5;129;43;01min\u001B[39;49;00m\u001B[43m \u001B[49m\u001B[38;5;28;43mself\u001B[39;49m\u001B[43m.\u001B[49m\u001B[43mrunnable\u001B[49m\u001B[43m.\u001B[49m\u001B[43mstream\u001B[49m\u001B[43m(\u001B[49m\u001B[43minputs\u001B[49m\u001B[43m,\u001B[49m\u001B[43m \u001B[49m\u001B[43mconfig\u001B[49m\u001B[43m=\u001B[49m\u001B[43m{\u001B[49m\u001B[33;43m\"\u001B[39;49m\u001B[33;43mcallbacks\u001B[39;49m\u001B[33;43m\"\u001B[39;49m\u001B[43m:\u001B[49m\u001B[43m \u001B[49m\u001B[43mcallbacks\u001B[49m\u001B[43m}\u001B[49m\u001B[43m)\u001B[49m\u001B[43m:\u001B[49m\n\u001B[32m    462\u001B[39m \u001B[43m        \u001B[49m\u001B[38;5;28;43;01mif\u001B[39;49;00m\u001B[43m \u001B[49m\u001B[43mfinal_output\u001B[49m\u001B[43m \u001B[49m\u001B[38;5;129;43;01mis\u001B[39;49;00m\u001B[43m \u001B[49m\u001B[38;5;28;43;01mNone\u001B[39;49;00m\u001B[43m:\u001B[49m\n",
      "\u001B[36mFile \u001B[39m\u001B[32m~/PycharmProjects/txt2sql/.venv/lib/python3.11/site-packages/langchain_core/runnables/base.py:3438\u001B[39m, in \u001B[36mRunnableSequence.stream\u001B[39m\u001B[34m(self, input, config, **kwargs)\u001B[39m\n\u001B[32m   3431\u001B[39m \u001B[38;5;129m@override\u001B[39m\n\u001B[32m   3432\u001B[39m \u001B[38;5;28;01mdef\u001B[39;00m\u001B[38;5;250m \u001B[39m\u001B[34mstream\u001B[39m(\n\u001B[32m   3433\u001B[39m     \u001B[38;5;28mself\u001B[39m,\n\u001B[32m   (...)\u001B[39m\u001B[32m   3436\u001B[39m     **kwargs: Optional[Any],\n\u001B[32m   3437\u001B[39m ) -> Iterator[Output]:\n\u001B[32m-> \u001B[39m\u001B[32m3438\u001B[39m     \u001B[38;5;28;01myield from\u001B[39;00m \u001B[38;5;28mself\u001B[39m.transform(\u001B[38;5;28miter\u001B[39m([\u001B[38;5;28minput\u001B[39m]), config, **kwargs)\n",
      "\u001B[36mFile \u001B[39m\u001B[32m~/PycharmProjects/txt2sql/.venv/lib/python3.11/site-packages/langchain_core/runnables/base.py:3424\u001B[39m, in \u001B[36mRunnableSequence.transform\u001B[39m\u001B[34m(self, input, config, **kwargs)\u001B[39m\n\u001B[32m   3417\u001B[39m \u001B[38;5;129m@override\u001B[39m\n\u001B[32m   3418\u001B[39m \u001B[38;5;28;01mdef\u001B[39;00m\u001B[38;5;250m \u001B[39m\u001B[34mtransform\u001B[39m(\n\u001B[32m   3419\u001B[39m     \u001B[38;5;28mself\u001B[39m,\n\u001B[32m   (...)\u001B[39m\u001B[32m   3422\u001B[39m     **kwargs: Optional[Any],\n\u001B[32m   3423\u001B[39m ) -> Iterator[Output]:\n\u001B[32m-> \u001B[39m\u001B[32m3424\u001B[39m     \u001B[38;5;28;01myield from\u001B[39;00m \u001B[38;5;28mself\u001B[39m._transform_stream_with_config(\n\u001B[32m   3425\u001B[39m         \u001B[38;5;28minput\u001B[39m,\n\u001B[32m   3426\u001B[39m         \u001B[38;5;28mself\u001B[39m._transform,\n\u001B[32m   3427\u001B[39m         patch_config(config, run_name=(config \u001B[38;5;129;01mor\u001B[39;00m {}).get(\u001B[33m\"\u001B[39m\u001B[33mrun_name\u001B[39m\u001B[33m\"\u001B[39m) \u001B[38;5;129;01mor\u001B[39;00m \u001B[38;5;28mself\u001B[39m.name),\n\u001B[32m   3428\u001B[39m         **kwargs,\n\u001B[32m   3429\u001B[39m     )\n",
      "\u001B[36mFile \u001B[39m\u001B[32m~/PycharmProjects/txt2sql/.venv/lib/python3.11/site-packages/langchain_core/runnables/base.py:2215\u001B[39m, in \u001B[36mRunnable._transform_stream_with_config\u001B[39m\u001B[34m(self, inputs, transformer, config, run_type, **kwargs)\u001B[39m\n\u001B[32m   2214\u001B[39m \u001B[38;5;28;01mwhile\u001B[39;00m \u001B[38;5;28;01mTrue\u001B[39;00m:\n\u001B[32m-> \u001B[39m\u001B[32m2215\u001B[39m     chunk: Output = context.run(\u001B[38;5;28mnext\u001B[39m, iterator)\n\u001B[32m   2216\u001B[39m     \u001B[38;5;28;01myield\u001B[39;00m chunk\n",
      "\u001B[36mFile \u001B[39m\u001B[32m~/PycharmProjects/txt2sql/.venv/lib/python3.11/site-packages/langchain_core/runnables/base.py:3386\u001B[39m, in \u001B[36mRunnableSequence._transform\u001B[39m\u001B[34m(self, inputs, run_manager, config, **kwargs)\u001B[39m\n\u001B[32m   3384\u001B[39m         final_pipeline = step.transform(final_pipeline, config)\n\u001B[32m-> \u001B[39m\u001B[32m3386\u001B[39m \u001B[38;5;28;01myield from\u001B[39;00m final_pipeline\n",
      "\u001B[36mFile \u001B[39m\u001B[32m~/PycharmProjects/txt2sql/.venv/lib/python3.11/site-packages/langchain_core/runnables/base.py:1447\u001B[39m, in \u001B[36mRunnable.transform\u001B[39m\u001B[34m(self, input, config, **kwargs)\u001B[39m\n\u001B[32m   1446\u001B[39m \u001B[38;5;28;01mif\u001B[39;00m got_first_val:\n\u001B[32m-> \u001B[39m\u001B[32m1447\u001B[39m     \u001B[38;5;28;01myield from\u001B[39;00m \u001B[38;5;28mself\u001B[39m.stream(final, config, **kwargs)\n",
      "\u001B[36mFile \u001B[39m\u001B[32m~/PycharmProjects/txt2sql/.venv/lib/python3.11/site-packages/langchain_core/runnables/base.py:1014\u001B[39m, in \u001B[36mRunnable.stream\u001B[39m\u001B[34m(self, input, config, **kwargs)\u001B[39m\n\u001B[32m   1002\u001B[39m \u001B[38;5;250m\u001B[39m\u001B[33;03m\"\"\"Default implementation of stream, which calls invoke.\u001B[39;00m\n\u001B[32m   1003\u001B[39m \n\u001B[32m   1004\u001B[39m \u001B[33;03mSubclasses should override this method if they support streaming output.\u001B[39;00m\n\u001B[32m   (...)\u001B[39m\u001B[32m   1012\u001B[39m \u001B[33;03m    The output of the Runnable.\u001B[39;00m\n\u001B[32m   1013\u001B[39m \u001B[33;03m\"\"\"\u001B[39;00m\n\u001B[32m-> \u001B[39m\u001B[32m1014\u001B[39m \u001B[38;5;28;01myield\u001B[39;00m \u001B[38;5;28;43mself\u001B[39;49m\u001B[43m.\u001B[49m\u001B[43minvoke\u001B[49m\u001B[43m(\u001B[49m\u001B[38;5;28;43minput\u001B[39;49m\u001B[43m,\u001B[49m\u001B[43m \u001B[49m\u001B[43mconfig\u001B[49m\u001B[43m,\u001B[49m\u001B[43m \u001B[49m\u001B[43m*\u001B[49m\u001B[43m*\u001B[49m\u001B[43mkwargs\u001B[49m\u001B[43m)\u001B[49m\n",
      "\u001B[36mFile \u001B[39m\u001B[32m~/PycharmProjects/txt2sql/.venv/lib/python3.11/site-packages/langchain_core/output_parsers/base.py:204\u001B[39m, in \u001B[36mBaseOutputParser.invoke\u001B[39m\u001B[34m(self, input, config, **kwargs)\u001B[39m\n\u001B[32m    196\u001B[39m     \u001B[38;5;28;01mreturn\u001B[39;00m \u001B[38;5;28mself\u001B[39m._call_with_config(\n\u001B[32m    197\u001B[39m         \u001B[38;5;28;01mlambda\u001B[39;00m inner_input: \u001B[38;5;28mself\u001B[39m.parse_result(\n\u001B[32m    198\u001B[39m             [ChatGeneration(message=inner_input)]\n\u001B[32m   (...)\u001B[39m\u001B[32m    202\u001B[39m         run_type=\u001B[33m\"\u001B[39m\u001B[33mparser\u001B[39m\u001B[33m\"\u001B[39m,\n\u001B[32m    203\u001B[39m     )\n\u001B[32m--> \u001B[39m\u001B[32m204\u001B[39m \u001B[38;5;28;01mreturn\u001B[39;00m \u001B[38;5;28;43mself\u001B[39;49m\u001B[43m.\u001B[49m\u001B[43m_call_with_config\u001B[49m\u001B[43m(\u001B[49m\n\u001B[32m    205\u001B[39m \u001B[43m    \u001B[49m\u001B[38;5;28;43;01mlambda\u001B[39;49;00m\u001B[43m \u001B[49m\u001B[43minner_input\u001B[49m\u001B[43m:\u001B[49m\u001B[43m \u001B[49m\u001B[38;5;28;43mself\u001B[39;49m\u001B[43m.\u001B[49m\u001B[43mparse_result\u001B[49m\u001B[43m(\u001B[49m\u001B[43m[\u001B[49m\u001B[43mGeneration\u001B[49m\u001B[43m(\u001B[49m\u001B[43mtext\u001B[49m\u001B[43m=\u001B[49m\u001B[43minner_input\u001B[49m\u001B[43m)\u001B[49m\u001B[43m]\u001B[49m\u001B[43m)\u001B[49m\u001B[43m,\u001B[49m\n\u001B[32m    206\u001B[39m \u001B[43m    \u001B[49m\u001B[38;5;28;43minput\u001B[39;49m\u001B[43m,\u001B[49m\n\u001B[32m    207\u001B[39m \u001B[43m    \u001B[49m\u001B[43mconfig\u001B[49m\u001B[43m,\u001B[49m\n\u001B[32m    208\u001B[39m \u001B[43m    \u001B[49m\u001B[43mrun_type\u001B[49m\u001B[43m=\u001B[49m\u001B[33;43m\"\u001B[39;49m\u001B[33;43mparser\u001B[39;49m\u001B[33;43m\"\u001B[39;49m\u001B[43m,\u001B[49m\n\u001B[32m    209\u001B[39m \u001B[43m\u001B[49m\u001B[43m)\u001B[49m\n",
      "\u001B[36mFile \u001B[39m\u001B[32m~/PycharmProjects/txt2sql/.venv/lib/python3.11/site-packages/langchain_core/runnables/base.py:1940\u001B[39m, in \u001B[36mRunnable._call_with_config\u001B[39m\u001B[34m(self, func, input_, config, run_type, serialized, **kwargs)\u001B[39m\n\u001B[32m   1937\u001B[39m     \u001B[38;5;28;01mwith\u001B[39;00m set_config_context(child_config) \u001B[38;5;28;01mas\u001B[39;00m context:\n\u001B[32m   1938\u001B[39m         output = cast(\n\u001B[32m   1939\u001B[39m             \u001B[33m\"\u001B[39m\u001B[33mOutput\u001B[39m\u001B[33m\"\u001B[39m,\n\u001B[32m-> \u001B[39m\u001B[32m1940\u001B[39m             \u001B[43mcontext\u001B[49m\u001B[43m.\u001B[49m\u001B[43mrun\u001B[49m\u001B[43m(\u001B[49m\n\u001B[32m   1941\u001B[39m \u001B[43m                \u001B[49m\u001B[43mcall_func_with_variable_args\u001B[49m\u001B[43m,\u001B[49m\u001B[43m  \u001B[49m\u001B[38;5;66;43;03m# type: ignore[arg-type]\u001B[39;49;00m\n\u001B[32m   1942\u001B[39m \u001B[43m                \u001B[49m\u001B[43mfunc\u001B[49m\u001B[43m,\u001B[49m\n\u001B[32m   1943\u001B[39m \u001B[43m                \u001B[49m\u001B[43minput_\u001B[49m\u001B[43m,\u001B[49m\n\u001B[32m   1944\u001B[39m \u001B[43m                \u001B[49m\u001B[43mconfig\u001B[49m\u001B[43m,\u001B[49m\n\u001B[32m   1945\u001B[39m \u001B[43m                \u001B[49m\u001B[43mrun_manager\u001B[49m\u001B[43m,\u001B[49m\n\u001B[32m   1946\u001B[39m \u001B[43m                \u001B[49m\u001B[43m*\u001B[49m\u001B[43m*\u001B[49m\u001B[43mkwargs\u001B[49m\u001B[43m,\u001B[49m\n\u001B[32m   1947\u001B[39m \u001B[43m            \u001B[49m\u001B[43m)\u001B[49m,\n\u001B[32m   1948\u001B[39m         )\n\u001B[32m   1949\u001B[39m \u001B[38;5;28;01mexcept\u001B[39;00m \u001B[38;5;167;01mBaseException\u001B[39;00m \u001B[38;5;28;01mas\u001B[39;00m e:\n",
      "\u001B[36mFile \u001B[39m\u001B[32m~/PycharmProjects/txt2sql/.venv/lib/python3.11/site-packages/langchain_core/runnables/config.py:428\u001B[39m, in \u001B[36mcall_func_with_variable_args\u001B[39m\u001B[34m(func, input, config, run_manager, **kwargs)\u001B[39m\n\u001B[32m    427\u001B[39m     kwargs[\u001B[33m\"\u001B[39m\u001B[33mrun_manager\u001B[39m\u001B[33m\"\u001B[39m] = run_manager\n\u001B[32m--> \u001B[39m\u001B[32m428\u001B[39m \u001B[38;5;28;01mreturn\u001B[39;00m \u001B[43mfunc\u001B[49m\u001B[43m(\u001B[49m\u001B[38;5;28;43minput\u001B[39;49m\u001B[43m,\u001B[49m\u001B[43m \u001B[49m\u001B[43m*\u001B[49m\u001B[43m*\u001B[49m\u001B[43mkwargs\u001B[49m\u001B[43m)\u001B[49m\n",
      "\u001B[36mFile \u001B[39m\u001B[32m~/PycharmProjects/txt2sql/.venv/lib/python3.11/site-packages/langchain_core/output_parsers/base.py:205\u001B[39m, in \u001B[36mBaseOutputParser.invoke.<locals>.<lambda>\u001B[39m\u001B[34m(inner_input)\u001B[39m\n\u001B[32m    196\u001B[39m     \u001B[38;5;28;01mreturn\u001B[39;00m \u001B[38;5;28mself\u001B[39m._call_with_config(\n\u001B[32m    197\u001B[39m         \u001B[38;5;28;01mlambda\u001B[39;00m inner_input: \u001B[38;5;28mself\u001B[39m.parse_result(\n\u001B[32m    198\u001B[39m             [ChatGeneration(message=inner_input)]\n\u001B[32m   (...)\u001B[39m\u001B[32m    202\u001B[39m         run_type=\u001B[33m\"\u001B[39m\u001B[33mparser\u001B[39m\u001B[33m\"\u001B[39m,\n\u001B[32m    203\u001B[39m     )\n\u001B[32m    204\u001B[39m \u001B[38;5;28;01mreturn\u001B[39;00m \u001B[38;5;28mself\u001B[39m._call_with_config(\n\u001B[32m--> \u001B[39m\u001B[32m205\u001B[39m     \u001B[38;5;28;01mlambda\u001B[39;00m inner_input: \u001B[38;5;28;43mself\u001B[39;49m\u001B[43m.\u001B[49m\u001B[43mparse_result\u001B[49m\u001B[43m(\u001B[49m\u001B[43m[\u001B[49m\u001B[43mGeneration\u001B[49m\u001B[43m(\u001B[49m\u001B[43mtext\u001B[49m\u001B[43m=\u001B[49m\u001B[43minner_input\u001B[49m\u001B[43m)\u001B[49m\u001B[43m]\u001B[49m\u001B[43m)\u001B[49m,\n\u001B[32m    206\u001B[39m     \u001B[38;5;28minput\u001B[39m,\n\u001B[32m    207\u001B[39m     config,\n\u001B[32m    208\u001B[39m     run_type=\u001B[33m\"\u001B[39m\u001B[33mparser\u001B[39m\u001B[33m\"\u001B[39m,\n\u001B[32m    209\u001B[39m )\n",
      "\u001B[36mFile \u001B[39m\u001B[32m~/PycharmProjects/txt2sql/.venv/lib/python3.11/site-packages/langchain_core/output_parsers/base.py:250\u001B[39m, in \u001B[36mBaseOutputParser.parse_result\u001B[39m\u001B[34m(self, result, partial)\u001B[39m\n\u001B[32m    236\u001B[39m \u001B[38;5;250m\u001B[39m\u001B[33;03m\"\"\"Parse a list of candidate model Generations into a specific format.\u001B[39;00m\n\u001B[32m    237\u001B[39m \n\u001B[32m    238\u001B[39m \u001B[33;03mThe return value is parsed from only the first Generation in the result, which\u001B[39;00m\n\u001B[32m   (...)\u001B[39m\u001B[32m    248\u001B[39m \u001B[33;03m    Structured output.\u001B[39;00m\n\u001B[32m    249\u001B[39m \u001B[33;03m\"\"\"\u001B[39;00m\n\u001B[32m--> \u001B[39m\u001B[32m250\u001B[39m \u001B[38;5;28;01mreturn\u001B[39;00m \u001B[38;5;28;43mself\u001B[39;49m\u001B[43m.\u001B[49m\u001B[43mparse\u001B[49m\u001B[43m(\u001B[49m\u001B[43mresult\u001B[49m\u001B[43m[\u001B[49m\u001B[32;43m0\u001B[39;49m\u001B[43m]\u001B[49m\u001B[43m.\u001B[49m\u001B[43mtext\u001B[49m\u001B[43m)\u001B[49m\n",
      "\u001B[36mFile \u001B[39m\u001B[32m~/PycharmProjects/txt2sql/.venv/lib/python3.11/site-packages/langchain/agents/output_parsers/react_single_input.py:75\u001B[39m, in \u001B[36mReActSingleInputOutputParser.parse\u001B[39m\u001B[34m(self, text)\u001B[39m\n\u001B[32m     74\u001B[39m \u001B[38;5;28;01mif\u001B[39;00m \u001B[38;5;129;01mnot\u001B[39;00m re.search(\u001B[33mr\u001B[39m\u001B[33m\"\u001B[39m\u001B[33mAction\u001B[39m\u001B[33m\\\u001B[39m\u001B[33ms*\u001B[39m\u001B[33m\\\u001B[39m\u001B[33md*\u001B[39m\u001B[33m\\\u001B[39m\u001B[33ms*:[\u001B[39m\u001B[33m\\\u001B[39m\u001B[33ms]*(.*?)\u001B[39m\u001B[33m\"\u001B[39m, text, re.DOTALL):\n\u001B[32m---> \u001B[39m\u001B[32m75\u001B[39m     \u001B[38;5;28;01mraise\u001B[39;00m OutputParserException(\n\u001B[32m     76\u001B[39m         \u001B[33mf\u001B[39m\u001B[33m\"\u001B[39m\u001B[33mCould not parse LLM output: `\u001B[39m\u001B[38;5;132;01m{\u001B[39;00mtext\u001B[38;5;132;01m}\u001B[39;00m\u001B[33m`\u001B[39m\u001B[33m\"\u001B[39m,\n\u001B[32m     77\u001B[39m         observation=MISSING_ACTION_AFTER_THOUGHT_ERROR_MESSAGE,\n\u001B[32m     78\u001B[39m         llm_output=text,\n\u001B[32m     79\u001B[39m         send_to_llm=\u001B[38;5;28;01mTrue\u001B[39;00m,\n\u001B[32m     80\u001B[39m     )\n\u001B[32m     81\u001B[39m \u001B[38;5;28;01melif\u001B[39;00m \u001B[38;5;129;01mnot\u001B[39;00m re.search(\n\u001B[32m     82\u001B[39m     \u001B[33mr\u001B[39m\u001B[33m\"\u001B[39m\u001B[33m[\u001B[39m\u001B[33m\\\u001B[39m\u001B[33ms]*Action\u001B[39m\u001B[33m\\\u001B[39m\u001B[33ms*\u001B[39m\u001B[33m\\\u001B[39m\u001B[33md*\u001B[39m\u001B[33m\\\u001B[39m\u001B[33ms*Input\u001B[39m\u001B[33m\\\u001B[39m\u001B[33ms*\u001B[39m\u001B[33m\\\u001B[39m\u001B[33md*\u001B[39m\u001B[33m\\\u001B[39m\u001B[33ms*:[\u001B[39m\u001B[33m\\\u001B[39m\u001B[33ms]*(.*)\u001B[39m\u001B[33m\"\u001B[39m, text, re.DOTALL\n\u001B[32m     83\u001B[39m ):\n",
      "\u001B[31mOutputParserException\u001B[39m: Could not parse LLM output: `I cannot provide a query that is not syntactically correct. Please provide the query and I will double check it before executing it. If the query is not correct, rewrite the query, check the query, and try again.`\nFor troubleshooting, visit: https://python.langchain.com/docs/troubleshooting/errors/OUTPUT_PARSING_FAILURE ",
      "\nDuring handling of the above exception, another exception occurred:\n",
      "\u001B[31mValueError\u001B[39m                                Traceback (most recent call last)",
      "\u001B[36mCell\u001B[39m\u001B[36m \u001B[39m\u001B[32mIn[11]\u001B[39m\u001B[32m, line 1\u001B[39m\n\u001B[32m----> \u001B[39m\u001B[32m1\u001B[39m \u001B[43magent_executor\u001B[49m\u001B[43m.\u001B[49m\u001B[43minvoke\u001B[49m\u001B[43m(\u001B[49m\u001B[33;43m\"\u001B[39;49m\u001B[33;43mQuantas colunas existem?\u001B[39;49m\u001B[33;43m\"\u001B[39;49m\u001B[43m)\u001B[49m\n",
      "\u001B[36mFile \u001B[39m\u001B[32m~/PycharmProjects/txt2sql/.venv/lib/python3.11/site-packages/langchain/chains/base.py:167\u001B[39m, in \u001B[36mChain.invoke\u001B[39m\u001B[34m(self, input, config, **kwargs)\u001B[39m\n\u001B[32m    165\u001B[39m \u001B[38;5;28;01mexcept\u001B[39;00m \u001B[38;5;167;01mBaseException\u001B[39;00m \u001B[38;5;28;01mas\u001B[39;00m e:\n\u001B[32m    166\u001B[39m     run_manager.on_chain_error(e)\n\u001B[32m--> \u001B[39m\u001B[32m167\u001B[39m     \u001B[38;5;28;01mraise\u001B[39;00m e\n\u001B[32m    168\u001B[39m run_manager.on_chain_end(outputs)\n\u001B[32m    170\u001B[39m \u001B[38;5;28;01mif\u001B[39;00m include_run_info:\n",
      "\u001B[36mFile \u001B[39m\u001B[32m~/PycharmProjects/txt2sql/.venv/lib/python3.11/site-packages/langchain/chains/base.py:157\u001B[39m, in \u001B[36mChain.invoke\u001B[39m\u001B[34m(self, input, config, **kwargs)\u001B[39m\n\u001B[32m    154\u001B[39m \u001B[38;5;28;01mtry\u001B[39;00m:\n\u001B[32m    155\u001B[39m     \u001B[38;5;28mself\u001B[39m._validate_inputs(inputs)\n\u001B[32m    156\u001B[39m     outputs = (\n\u001B[32m--> \u001B[39m\u001B[32m157\u001B[39m         \u001B[38;5;28;43mself\u001B[39;49m\u001B[43m.\u001B[49m\u001B[43m_call\u001B[49m\u001B[43m(\u001B[49m\u001B[43minputs\u001B[49m\u001B[43m,\u001B[49m\u001B[43m \u001B[49m\u001B[43mrun_manager\u001B[49m\u001B[43m=\u001B[49m\u001B[43mrun_manager\u001B[49m\u001B[43m)\u001B[49m\n\u001B[32m    158\u001B[39m         \u001B[38;5;28;01mif\u001B[39;00m new_arg_supported\n\u001B[32m    159\u001B[39m         \u001B[38;5;28;01melse\u001B[39;00m \u001B[38;5;28mself\u001B[39m._call(inputs)\n\u001B[32m    160\u001B[39m     )\n\u001B[32m    162\u001B[39m     final_outputs: \u001B[38;5;28mdict\u001B[39m[\u001B[38;5;28mstr\u001B[39m, Any] = \u001B[38;5;28mself\u001B[39m.prep_outputs(\n\u001B[32m    163\u001B[39m         inputs, outputs, return_only_outputs\n\u001B[32m    164\u001B[39m     )\n\u001B[32m    165\u001B[39m \u001B[38;5;28;01mexcept\u001B[39;00m \u001B[38;5;167;01mBaseException\u001B[39;00m \u001B[38;5;28;01mas\u001B[39;00m e:\n",
      "\u001B[36mFile \u001B[39m\u001B[32m~/PycharmProjects/txt2sql/.venv/lib/python3.11/site-packages/langchain/agents/agent.py:1620\u001B[39m, in \u001B[36mAgentExecutor._call\u001B[39m\u001B[34m(self, inputs, run_manager)\u001B[39m\n\u001B[32m   1618\u001B[39m \u001B[38;5;66;03m# We now enter the agent loop (until it returns something).\u001B[39;00m\n\u001B[32m   1619\u001B[39m \u001B[38;5;28;01mwhile\u001B[39;00m \u001B[38;5;28mself\u001B[39m._should_continue(iterations, time_elapsed):\n\u001B[32m-> \u001B[39m\u001B[32m1620\u001B[39m     next_step_output = \u001B[38;5;28;43mself\u001B[39;49m\u001B[43m.\u001B[49m\u001B[43m_take_next_step\u001B[49m\u001B[43m(\u001B[49m\n\u001B[32m   1621\u001B[39m \u001B[43m        \u001B[49m\u001B[43mname_to_tool_map\u001B[49m\u001B[43m,\u001B[49m\n\u001B[32m   1622\u001B[39m \u001B[43m        \u001B[49m\u001B[43mcolor_mapping\u001B[49m\u001B[43m,\u001B[49m\n\u001B[32m   1623\u001B[39m \u001B[43m        \u001B[49m\u001B[43minputs\u001B[49m\u001B[43m,\u001B[49m\n\u001B[32m   1624\u001B[39m \u001B[43m        \u001B[49m\u001B[43mintermediate_steps\u001B[49m\u001B[43m,\u001B[49m\n\u001B[32m   1625\u001B[39m \u001B[43m        \u001B[49m\u001B[43mrun_manager\u001B[49m\u001B[43m=\u001B[49m\u001B[43mrun_manager\u001B[49m\u001B[43m,\u001B[49m\n\u001B[32m   1626\u001B[39m \u001B[43m    \u001B[49m\u001B[43m)\u001B[49m\n\u001B[32m   1627\u001B[39m     \u001B[38;5;28;01mif\u001B[39;00m \u001B[38;5;28misinstance\u001B[39m(next_step_output, AgentFinish):\n\u001B[32m   1628\u001B[39m         \u001B[38;5;28;01mreturn\u001B[39;00m \u001B[38;5;28mself\u001B[39m._return(\n\u001B[32m   1629\u001B[39m             next_step_output, intermediate_steps, run_manager=run_manager\n\u001B[32m   1630\u001B[39m         )\n",
      "\u001B[36mFile \u001B[39m\u001B[32m~/PycharmProjects/txt2sql/.venv/lib/python3.11/site-packages/langchain/agents/agent.py:1326\u001B[39m, in \u001B[36mAgentExecutor._take_next_step\u001B[39m\u001B[34m(self, name_to_tool_map, color_mapping, inputs, intermediate_steps, run_manager)\u001B[39m\n\u001B[32m   1317\u001B[39m \u001B[38;5;28;01mdef\u001B[39;00m\u001B[38;5;250m \u001B[39m\u001B[34m_take_next_step\u001B[39m(\n\u001B[32m   1318\u001B[39m     \u001B[38;5;28mself\u001B[39m,\n\u001B[32m   1319\u001B[39m     name_to_tool_map: \u001B[38;5;28mdict\u001B[39m[\u001B[38;5;28mstr\u001B[39m, BaseTool],\n\u001B[32m   (...)\u001B[39m\u001B[32m   1323\u001B[39m     run_manager: Optional[CallbackManagerForChainRun] = \u001B[38;5;28;01mNone\u001B[39;00m,\n\u001B[32m   1324\u001B[39m ) -> Union[AgentFinish, \u001B[38;5;28mlist\u001B[39m[\u001B[38;5;28mtuple\u001B[39m[AgentAction, \u001B[38;5;28mstr\u001B[39m]]]:\n\u001B[32m   1325\u001B[39m     \u001B[38;5;28;01mreturn\u001B[39;00m \u001B[38;5;28mself\u001B[39m._consume_next_step(\n\u001B[32m-> \u001B[39m\u001B[32m1326\u001B[39m         \u001B[43m[\u001B[49m\n\u001B[32m   1327\u001B[39m \u001B[43m            \u001B[49m\u001B[43ma\u001B[49m\n\u001B[32m   1328\u001B[39m \u001B[43m            \u001B[49m\u001B[38;5;28;43;01mfor\u001B[39;49;00m\u001B[43m \u001B[49m\u001B[43ma\u001B[49m\u001B[43m \u001B[49m\u001B[38;5;129;43;01min\u001B[39;49;00m\u001B[43m \u001B[49m\u001B[38;5;28;43mself\u001B[39;49m\u001B[43m.\u001B[49m\u001B[43m_iter_next_step\u001B[49m\u001B[43m(\u001B[49m\n\u001B[32m   1329\u001B[39m \u001B[43m                \u001B[49m\u001B[43mname_to_tool_map\u001B[49m\u001B[43m,\u001B[49m\n\u001B[32m   1330\u001B[39m \u001B[43m                \u001B[49m\u001B[43mcolor_mapping\u001B[49m\u001B[43m,\u001B[49m\n\u001B[32m   1331\u001B[39m \u001B[43m                \u001B[49m\u001B[43minputs\u001B[49m\u001B[43m,\u001B[49m\n\u001B[32m   1332\u001B[39m \u001B[43m                \u001B[49m\u001B[43mintermediate_steps\u001B[49m\u001B[43m,\u001B[49m\n\u001B[32m   1333\u001B[39m \u001B[43m                \u001B[49m\u001B[43mrun_manager\u001B[49m\u001B[43m,\u001B[49m\n\u001B[32m   1334\u001B[39m \u001B[43m            \u001B[49m\u001B[43m)\u001B[49m\n\u001B[32m   1335\u001B[39m \u001B[43m        \u001B[49m\u001B[43m]\u001B[49m\n\u001B[32m   1336\u001B[39m     )\n",
      "\u001B[36mFile \u001B[39m\u001B[32m~/PycharmProjects/txt2sql/.venv/lib/python3.11/site-packages/langchain/agents/agent.py:1326\u001B[39m, in \u001B[36m<listcomp>\u001B[39m\u001B[34m(.0)\u001B[39m\n\u001B[32m   1317\u001B[39m \u001B[38;5;28;01mdef\u001B[39;00m\u001B[38;5;250m \u001B[39m\u001B[34m_take_next_step\u001B[39m(\n\u001B[32m   1318\u001B[39m     \u001B[38;5;28mself\u001B[39m,\n\u001B[32m   1319\u001B[39m     name_to_tool_map: \u001B[38;5;28mdict\u001B[39m[\u001B[38;5;28mstr\u001B[39m, BaseTool],\n\u001B[32m   (...)\u001B[39m\u001B[32m   1323\u001B[39m     run_manager: Optional[CallbackManagerForChainRun] = \u001B[38;5;28;01mNone\u001B[39;00m,\n\u001B[32m   1324\u001B[39m ) -> Union[AgentFinish, \u001B[38;5;28mlist\u001B[39m[\u001B[38;5;28mtuple\u001B[39m[AgentAction, \u001B[38;5;28mstr\u001B[39m]]]:\n\u001B[32m   1325\u001B[39m     \u001B[38;5;28;01mreturn\u001B[39;00m \u001B[38;5;28mself\u001B[39m._consume_next_step(\n\u001B[32m-> \u001B[39m\u001B[32m1326\u001B[39m         \u001B[43m[\u001B[49m\n\u001B[32m   1327\u001B[39m \u001B[43m            \u001B[49m\u001B[43ma\u001B[49m\n\u001B[32m   1328\u001B[39m \u001B[43m            \u001B[49m\u001B[38;5;28;43;01mfor\u001B[39;49;00m\u001B[43m \u001B[49m\u001B[43ma\u001B[49m\u001B[43m \u001B[49m\u001B[38;5;129;43;01min\u001B[39;49;00m\u001B[43m \u001B[49m\u001B[38;5;28;43mself\u001B[39;49m\u001B[43m.\u001B[49m\u001B[43m_iter_next_step\u001B[49m\u001B[43m(\u001B[49m\n\u001B[32m   1329\u001B[39m \u001B[43m                \u001B[49m\u001B[43mname_to_tool_map\u001B[49m\u001B[43m,\u001B[49m\n\u001B[32m   1330\u001B[39m \u001B[43m                \u001B[49m\u001B[43mcolor_mapping\u001B[49m\u001B[43m,\u001B[49m\n\u001B[32m   1331\u001B[39m \u001B[43m                \u001B[49m\u001B[43minputs\u001B[49m\u001B[43m,\u001B[49m\n\u001B[32m   1332\u001B[39m \u001B[43m                \u001B[49m\u001B[43mintermediate_steps\u001B[49m\u001B[43m,\u001B[49m\n\u001B[32m   1333\u001B[39m \u001B[43m                \u001B[49m\u001B[43mrun_manager\u001B[49m\u001B[43m,\u001B[49m\n\u001B[32m   1334\u001B[39m \u001B[43m            \u001B[49m\u001B[43m)\u001B[49m\n\u001B[32m   1335\u001B[39m \u001B[43m        \u001B[49m\u001B[43m]\u001B[49m\n\u001B[32m   1336\u001B[39m     )\n",
      "\u001B[36mFile \u001B[39m\u001B[32m~/PycharmProjects/txt2sql/.venv/lib/python3.11/site-packages/langchain/agents/agent.py:1365\u001B[39m, in \u001B[36mAgentExecutor._iter_next_step\u001B[39m\u001B[34m(self, name_to_tool_map, color_mapping, inputs, intermediate_steps, run_manager)\u001B[39m\n\u001B[32m   1363\u001B[39m     raise_error = \u001B[38;5;28;01mFalse\u001B[39;00m\n\u001B[32m   1364\u001B[39m \u001B[38;5;28;01mif\u001B[39;00m raise_error:\n\u001B[32m-> \u001B[39m\u001B[32m1365\u001B[39m     \u001B[38;5;28;01mraise\u001B[39;00m \u001B[38;5;167;01mValueError\u001B[39;00m(\n\u001B[32m   1366\u001B[39m         \u001B[33m\"\u001B[39m\u001B[33mAn output parsing error occurred. \u001B[39m\u001B[33m\"\u001B[39m\n\u001B[32m   1367\u001B[39m         \u001B[33m\"\u001B[39m\u001B[33mIn order to pass this error back to the agent and have it try \u001B[39m\u001B[33m\"\u001B[39m\n\u001B[32m   1368\u001B[39m         \u001B[33m\"\u001B[39m\u001B[33magain, pass `handle_parsing_errors=True` to the AgentExecutor. \u001B[39m\u001B[33m\"\u001B[39m\n\u001B[32m   1369\u001B[39m         \u001B[33mf\u001B[39m\u001B[33m\"\u001B[39m\u001B[33mThis is the error: \u001B[39m\u001B[38;5;132;01m{\u001B[39;00m\u001B[38;5;28mstr\u001B[39m(e)\u001B[38;5;132;01m}\u001B[39;00m\u001B[33m\"\u001B[39m\n\u001B[32m   1370\u001B[39m     )\n\u001B[32m   1371\u001B[39m text = \u001B[38;5;28mstr\u001B[39m(e)\n\u001B[32m   1372\u001B[39m \u001B[38;5;28;01mif\u001B[39;00m \u001B[38;5;28misinstance\u001B[39m(\u001B[38;5;28mself\u001B[39m.handle_parsing_errors, \u001B[38;5;28mbool\u001B[39m):\n",
      "\u001B[31mValueError\u001B[39m: An output parsing error occurred. In order to pass this error back to the agent and have it try again, pass `handle_parsing_errors=True` to the AgentExecutor. This is the error: Could not parse LLM output: `I cannot provide a query that is not syntactically correct. Please provide the query and I will double check it before executing it. If the query is not correct, rewrite the query, check the query, and try again.`\nFor troubleshooting, visit: https://python.langchain.com/docs/troubleshooting/errors/OUTPUT_PARSING_FAILURE "
     ]
    }
   ],
   "execution_count": 11
  },
  {
   "metadata": {},
   "cell_type": "code",
   "outputs": [],
   "execution_count": null,
   "source": "",
   "id": "c5b0fb73814b188c"
  }
 ],
 "metadata": {
  "kernelspec": {
   "display_name": "Python 3",
   "language": "python",
   "name": "python3"
  },
  "language_info": {
   "codemirror_mode": {
    "name": "ipython",
    "version": 2
   },
   "file_extension": ".py",
   "mimetype": "text/x-python",
   "name": "python",
   "nbconvert_exporter": "python",
   "pygments_lexer": "ipython2",
   "version": "2.7.6"
  }
 },
 "nbformat": 4,
 "nbformat_minor": 5
}
